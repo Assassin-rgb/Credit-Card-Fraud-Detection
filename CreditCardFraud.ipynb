{
 "cells": [
  {
   "cell_type": "markdown",
   "id": "84239263",
   "metadata": {},
   "source": [
    "# import packages"
   ]
  },
  {
   "cell_type": "code",
   "execution_count": 1,
   "id": "da9e663f",
   "metadata": {},
   "outputs": [],
   "source": [
    "import warnings\n",
    "warnings.filterwarnings('ignore')"
   ]
  },
  {
   "cell_type": "code",
   "execution_count": 91,
   "id": "0f8e6f3e",
   "metadata": {},
   "outputs": [],
   "source": [
    "import zipfile\n",
    "import numpy as np\n",
    "import pandas as pd\n",
    "import matplotlib.pyplot as plt\n",
    "from copy import deepcopy\n",
    "from sklearn.preprocessing import LabelEncoder, MinMaxScaler\n",
    "from sklearn.model_selection import train_test_split, GridSearchCV, cross_val_score\n",
    "from imblearn.under_sampling import RandomUnderSampler\n",
    "from imblearn.over_sampling import SMOTE\n",
    "from sklearn.tree import DecisionTreeClassifier\n",
    "from sklearn.ensemble import RandomForestClassifier\n",
    "from xgboost import XGBClassifier\n",
    "from sklearn.metrics import confusion_matrix, classification_report, accuracy_score, plot_confusion_matrix\n",
    "from datetime import datetime\n",
    "from sklearn.linear_model import LogisticRegression\n",
    "from sklearn.svm import LinearSVC\n",
    "from sklearn.inspection import permutation_importance"
   ]
  },
  {
   "cell_type": "code",
   "execution_count": 3,
   "id": "094673e7",
   "metadata": {},
   "outputs": [],
   "source": [
    "import torch\n",
    "from torch import nn\n",
    "from torch.utils.data import DataLoader"
   ]
  },
  {
   "cell_type": "code",
   "execution_count": 4,
   "id": "74f55284",
   "metadata": {},
   "outputs": [
    {
     "name": "stdout",
     "output_type": "stream",
     "text": [
      "Using cpu device\n"
     ]
    }
   ],
   "source": [
    "device = 'cuda' if torch.cuda.is_available() else 'cpu'\n",
    "print('Using {} device'.format(device))"
   ]
  },
  {
   "cell_type": "markdown",
   "id": "8d2d9f2d",
   "metadata": {},
   "source": [
    "# download the dataset\n",
    "\n",
    "Dataset is downloaded directly using GitHub link. The zip file is then extracted to the currentpath."
   ]
  },
  {
   "cell_type": "code",
   "execution_count": 5,
   "id": "018ef261",
   "metadata": {},
   "outputs": [
    {
     "name": "stdout",
     "output_type": "stream",
     "text": [
      "fatal: destination path 'DS' already exists and is not an empty directory.\r\n"
     ]
    }
   ],
   "source": [
    "!git clone https://github.com/CapitalOneRecruiting/DS"
   ]
  },
  {
   "cell_type": "code",
   "execution_count": 6,
   "id": "4df5727a",
   "metadata": {},
   "outputs": [],
   "source": [
    "with zipfile.ZipFile('DS/transactions.zip', 'r') as f:\n",
    "    f.extractall()"
   ]
  },
  {
   "cell_type": "markdown",
   "id": "4aea25ea",
   "metadata": {},
   "source": [
    "Reading the transactions.txt file in json format and replacing the missing values with np.nan"
   ]
  },
  {
   "cell_type": "code",
   "execution_count": 7,
   "id": "005e300d",
   "metadata": {},
   "outputs": [],
   "source": [
    "dataset = pd.read_json('transactions.txt', lines=True)\n",
    "dataset.replace('', np.nan, inplace=True)"
   ]
  },
  {
   "cell_type": "markdown",
   "id": "e514ad8e",
   "metadata": {},
   "source": [
    "# dataset information and statistics"
   ]
  },
  {
   "cell_type": "code",
   "execution_count": 8,
   "id": "0f62cf55",
   "metadata": {},
   "outputs": [
    {
     "data": {
      "text/html": [
       "<div>\n",
       "<style scoped>\n",
       "    .dataframe tbody tr th:only-of-type {\n",
       "        vertical-align: middle;\n",
       "    }\n",
       "\n",
       "    .dataframe tbody tr th {\n",
       "        vertical-align: top;\n",
       "    }\n",
       "\n",
       "    .dataframe thead th {\n",
       "        text-align: right;\n",
       "    }\n",
       "</style>\n",
       "<table border=\"1\" class=\"dataframe\">\n",
       "  <thead>\n",
       "    <tr style=\"text-align: right;\">\n",
       "      <th></th>\n",
       "      <th>accountNumber</th>\n",
       "      <th>customerId</th>\n",
       "      <th>creditLimit</th>\n",
       "      <th>availableMoney</th>\n",
       "      <th>transactionDateTime</th>\n",
       "      <th>transactionAmount</th>\n",
       "      <th>merchantName</th>\n",
       "      <th>acqCountry</th>\n",
       "      <th>merchantCountryCode</th>\n",
       "      <th>posEntryMode</th>\n",
       "      <th>...</th>\n",
       "      <th>echoBuffer</th>\n",
       "      <th>currentBalance</th>\n",
       "      <th>merchantCity</th>\n",
       "      <th>merchantState</th>\n",
       "      <th>merchantZip</th>\n",
       "      <th>cardPresent</th>\n",
       "      <th>posOnPremises</th>\n",
       "      <th>recurringAuthInd</th>\n",
       "      <th>expirationDateKeyInMatch</th>\n",
       "      <th>isFraud</th>\n",
       "    </tr>\n",
       "  </thead>\n",
       "  <tbody>\n",
       "    <tr>\n",
       "      <th>0</th>\n",
       "      <td>737265056</td>\n",
       "      <td>737265056</td>\n",
       "      <td>5000</td>\n",
       "      <td>5000.0</td>\n",
       "      <td>2016-08-13T14:27:32</td>\n",
       "      <td>98.55</td>\n",
       "      <td>Uber</td>\n",
       "      <td>US</td>\n",
       "      <td>US</td>\n",
       "      <td>02</td>\n",
       "      <td>...</td>\n",
       "      <td>NaN</td>\n",
       "      <td>0.0</td>\n",
       "      <td>NaN</td>\n",
       "      <td>NaN</td>\n",
       "      <td>NaN</td>\n",
       "      <td>False</td>\n",
       "      <td>NaN</td>\n",
       "      <td>NaN</td>\n",
       "      <td>False</td>\n",
       "      <td>False</td>\n",
       "    </tr>\n",
       "    <tr>\n",
       "      <th>1</th>\n",
       "      <td>737265056</td>\n",
       "      <td>737265056</td>\n",
       "      <td>5000</td>\n",
       "      <td>5000.0</td>\n",
       "      <td>2016-10-11T05:05:54</td>\n",
       "      <td>74.51</td>\n",
       "      <td>AMC #191138</td>\n",
       "      <td>US</td>\n",
       "      <td>US</td>\n",
       "      <td>09</td>\n",
       "      <td>...</td>\n",
       "      <td>NaN</td>\n",
       "      <td>0.0</td>\n",
       "      <td>NaN</td>\n",
       "      <td>NaN</td>\n",
       "      <td>NaN</td>\n",
       "      <td>True</td>\n",
       "      <td>NaN</td>\n",
       "      <td>NaN</td>\n",
       "      <td>False</td>\n",
       "      <td>False</td>\n",
       "    </tr>\n",
       "    <tr>\n",
       "      <th>2</th>\n",
       "      <td>737265056</td>\n",
       "      <td>737265056</td>\n",
       "      <td>5000</td>\n",
       "      <td>5000.0</td>\n",
       "      <td>2016-11-08T09:18:39</td>\n",
       "      <td>7.47</td>\n",
       "      <td>Play Store</td>\n",
       "      <td>US</td>\n",
       "      <td>US</td>\n",
       "      <td>09</td>\n",
       "      <td>...</td>\n",
       "      <td>NaN</td>\n",
       "      <td>0.0</td>\n",
       "      <td>NaN</td>\n",
       "      <td>NaN</td>\n",
       "      <td>NaN</td>\n",
       "      <td>False</td>\n",
       "      <td>NaN</td>\n",
       "      <td>NaN</td>\n",
       "      <td>False</td>\n",
       "      <td>False</td>\n",
       "    </tr>\n",
       "    <tr>\n",
       "      <th>3</th>\n",
       "      <td>737265056</td>\n",
       "      <td>737265056</td>\n",
       "      <td>5000</td>\n",
       "      <td>5000.0</td>\n",
       "      <td>2016-12-10T02:14:50</td>\n",
       "      <td>7.47</td>\n",
       "      <td>Play Store</td>\n",
       "      <td>US</td>\n",
       "      <td>US</td>\n",
       "      <td>09</td>\n",
       "      <td>...</td>\n",
       "      <td>NaN</td>\n",
       "      <td>0.0</td>\n",
       "      <td>NaN</td>\n",
       "      <td>NaN</td>\n",
       "      <td>NaN</td>\n",
       "      <td>False</td>\n",
       "      <td>NaN</td>\n",
       "      <td>NaN</td>\n",
       "      <td>False</td>\n",
       "      <td>False</td>\n",
       "    </tr>\n",
       "    <tr>\n",
       "      <th>4</th>\n",
       "      <td>830329091</td>\n",
       "      <td>830329091</td>\n",
       "      <td>5000</td>\n",
       "      <td>5000.0</td>\n",
       "      <td>2016-03-24T21:04:46</td>\n",
       "      <td>71.18</td>\n",
       "      <td>Tim Hortons #947751</td>\n",
       "      <td>US</td>\n",
       "      <td>US</td>\n",
       "      <td>02</td>\n",
       "      <td>...</td>\n",
       "      <td>NaN</td>\n",
       "      <td>0.0</td>\n",
       "      <td>NaN</td>\n",
       "      <td>NaN</td>\n",
       "      <td>NaN</td>\n",
       "      <td>True</td>\n",
       "      <td>NaN</td>\n",
       "      <td>NaN</td>\n",
       "      <td>False</td>\n",
       "      <td>False</td>\n",
       "    </tr>\n",
       "  </tbody>\n",
       "</table>\n",
       "<p>5 rows × 29 columns</p>\n",
       "</div>"
      ],
      "text/plain": [
       "   accountNumber  customerId  creditLimit  availableMoney  \\\n",
       "0      737265056   737265056         5000          5000.0   \n",
       "1      737265056   737265056         5000          5000.0   \n",
       "2      737265056   737265056         5000          5000.0   \n",
       "3      737265056   737265056         5000          5000.0   \n",
       "4      830329091   830329091         5000          5000.0   \n",
       "\n",
       "   transactionDateTime  transactionAmount         merchantName acqCountry  \\\n",
       "0  2016-08-13T14:27:32              98.55                 Uber         US   \n",
       "1  2016-10-11T05:05:54              74.51          AMC #191138         US   \n",
       "2  2016-11-08T09:18:39               7.47           Play Store         US   \n",
       "3  2016-12-10T02:14:50               7.47           Play Store         US   \n",
       "4  2016-03-24T21:04:46              71.18  Tim Hortons #947751         US   \n",
       "\n",
       "  merchantCountryCode posEntryMode  ... echoBuffer currentBalance  \\\n",
       "0                  US           02  ...        NaN            0.0   \n",
       "1                  US           09  ...        NaN            0.0   \n",
       "2                  US           09  ...        NaN            0.0   \n",
       "3                  US           09  ...        NaN            0.0   \n",
       "4                  US           02  ...        NaN            0.0   \n",
       "\n",
       "  merchantCity merchantState merchantZip  cardPresent  posOnPremises  \\\n",
       "0          NaN           NaN         NaN        False            NaN   \n",
       "1          NaN           NaN         NaN         True            NaN   \n",
       "2          NaN           NaN         NaN        False            NaN   \n",
       "3          NaN           NaN         NaN        False            NaN   \n",
       "4          NaN           NaN         NaN         True            NaN   \n",
       "\n",
       "   recurringAuthInd expirationDateKeyInMatch  isFraud  \n",
       "0               NaN                    False    False  \n",
       "1               NaN                    False    False  \n",
       "2               NaN                    False    False  \n",
       "3               NaN                    False    False  \n",
       "4               NaN                    False    False  \n",
       "\n",
       "[5 rows x 29 columns]"
      ]
     },
     "execution_count": 8,
     "metadata": {},
     "output_type": "execute_result"
    }
   ],
   "source": [
    "dataset.head()"
   ]
  },
  {
   "cell_type": "code",
   "execution_count": 9,
   "id": "7884ed34",
   "metadata": {},
   "outputs": [
    {
     "name": "stdout",
     "output_type": "stream",
     "text": [
      "<class 'pandas.core.frame.DataFrame'>\n",
      "RangeIndex: 786363 entries, 0 to 786362\n",
      "Data columns (total 29 columns):\n",
      " #   Column                    Non-Null Count   Dtype  \n",
      "---  ------                    --------------   -----  \n",
      " 0   accountNumber             786363 non-null  int64  \n",
      " 1   customerId                786363 non-null  int64  \n",
      " 2   creditLimit               786363 non-null  int64  \n",
      " 3   availableMoney            786363 non-null  float64\n",
      " 4   transactionDateTime       786363 non-null  object \n",
      " 5   transactionAmount         786363 non-null  float64\n",
      " 6   merchantName              786363 non-null  object \n",
      " 7   acqCountry                781801 non-null  object \n",
      " 8   merchantCountryCode       785639 non-null  object \n",
      " 9   posEntryMode              782309 non-null  object \n",
      " 10  posConditionCode          785954 non-null  object \n",
      " 11  merchantCategoryCode      786363 non-null  object \n",
      " 12  currentExpDate            786363 non-null  object \n",
      " 13  accountOpenDate           786363 non-null  object \n",
      " 14  dateOfLastAddressChange   786363 non-null  object \n",
      " 15  cardCVV                   786363 non-null  int64  \n",
      " 16  enteredCVV                786363 non-null  int64  \n",
      " 17  cardLast4Digits           786363 non-null  int64  \n",
      " 18  transactionType           785665 non-null  object \n",
      " 19  echoBuffer                0 non-null       float64\n",
      " 20  currentBalance            786363 non-null  float64\n",
      " 21  merchantCity              0 non-null       float64\n",
      " 22  merchantState             0 non-null       float64\n",
      " 23  merchantZip               0 non-null       float64\n",
      " 24  cardPresent               786363 non-null  bool   \n",
      " 25  posOnPremises             0 non-null       float64\n",
      " 26  recurringAuthInd          0 non-null       float64\n",
      " 27  expirationDateKeyInMatch  786363 non-null  bool   \n",
      " 28  isFraud                   786363 non-null  bool   \n",
      "dtypes: bool(3), float64(9), int64(6), object(11)\n",
      "memory usage: 158.2+ MB\n"
     ]
    }
   ],
   "source": [
    "dataset.info()"
   ]
  },
  {
   "cell_type": "markdown",
   "id": "0bcf0fdd",
   "metadata": {},
   "source": [
    "From the above info, we can see that there are some missing values in the dataset for few columns.\n",
    "<br>\n",
    "For the columns echoBuffer, merchantCity, merchantState, merchantZip, posOnPremises, recurringAuthInd - all the values are missing.\n",
    "<br>\n",
    "We can drop these columns from our dataset."
   ]
  },
  {
   "cell_type": "code",
   "execution_count": 10,
   "id": "81684c84",
   "metadata": {},
   "outputs": [],
   "source": [
    "dataset.drop(columns = ['echoBuffer', 'merchantCity', 'merchantState', 'merchantZip', \n",
    "                        'posOnPremises', 'recurringAuthInd'], inplace=True)"
   ]
  },
  {
   "cell_type": "markdown",
   "id": "1e6df281",
   "metadata": {},
   "source": [
    "Below information shows the statistics of the numerical fields in the dataset. <br>\n",
    "We can see that all the values for columns accountNumber and customerId are the same."
   ]
  },
  {
   "cell_type": "code",
   "execution_count": 11,
   "id": "32c08bb4",
   "metadata": {},
   "outputs": [
    {
     "data": {
      "text/html": [
       "<div>\n",
       "<style scoped>\n",
       "    .dataframe tbody tr th:only-of-type {\n",
       "        vertical-align: middle;\n",
       "    }\n",
       "\n",
       "    .dataframe tbody tr th {\n",
       "        vertical-align: top;\n",
       "    }\n",
       "\n",
       "    .dataframe thead th {\n",
       "        text-align: right;\n",
       "    }\n",
       "</style>\n",
       "<table border=\"1\" class=\"dataframe\">\n",
       "  <thead>\n",
       "    <tr style=\"text-align: right;\">\n",
       "      <th></th>\n",
       "      <th>accountNumber</th>\n",
       "      <th>customerId</th>\n",
       "      <th>creditLimit</th>\n",
       "      <th>availableMoney</th>\n",
       "      <th>transactionAmount</th>\n",
       "      <th>cardCVV</th>\n",
       "      <th>enteredCVV</th>\n",
       "      <th>cardLast4Digits</th>\n",
       "      <th>currentBalance</th>\n",
       "    </tr>\n",
       "  </thead>\n",
       "  <tbody>\n",
       "    <tr>\n",
       "      <th>count</th>\n",
       "      <td>7.863630e+05</td>\n",
       "      <td>7.863630e+05</td>\n",
       "      <td>786363.000000</td>\n",
       "      <td>786363.000000</td>\n",
       "      <td>786363.000000</td>\n",
       "      <td>786363.000000</td>\n",
       "      <td>786363.000000</td>\n",
       "      <td>786363.000000</td>\n",
       "      <td>786363.000000</td>\n",
       "    </tr>\n",
       "    <tr>\n",
       "      <th>mean</th>\n",
       "      <td>5.372326e+08</td>\n",
       "      <td>5.372326e+08</td>\n",
       "      <td>10759.464459</td>\n",
       "      <td>6250.725369</td>\n",
       "      <td>136.985791</td>\n",
       "      <td>544.467338</td>\n",
       "      <td>544.183857</td>\n",
       "      <td>4757.417799</td>\n",
       "      <td>4508.739089</td>\n",
       "    </tr>\n",
       "    <tr>\n",
       "      <th>std</th>\n",
       "      <td>2.554211e+08</td>\n",
       "      <td>2.554211e+08</td>\n",
       "      <td>11636.174890</td>\n",
       "      <td>8880.783989</td>\n",
       "      <td>147.725569</td>\n",
       "      <td>261.524220</td>\n",
       "      <td>261.551254</td>\n",
       "      <td>2996.583810</td>\n",
       "      <td>6457.442068</td>\n",
       "    </tr>\n",
       "    <tr>\n",
       "      <th>min</th>\n",
       "      <td>1.000881e+08</td>\n",
       "      <td>1.000881e+08</td>\n",
       "      <td>250.000000</td>\n",
       "      <td>-1005.630000</td>\n",
       "      <td>0.000000</td>\n",
       "      <td>100.000000</td>\n",
       "      <td>0.000000</td>\n",
       "      <td>0.000000</td>\n",
       "      <td>0.000000</td>\n",
       "    </tr>\n",
       "    <tr>\n",
       "      <th>25%</th>\n",
       "      <td>3.301333e+08</td>\n",
       "      <td>3.301333e+08</td>\n",
       "      <td>5000.000000</td>\n",
       "      <td>1077.420000</td>\n",
       "      <td>33.650000</td>\n",
       "      <td>310.000000</td>\n",
       "      <td>310.000000</td>\n",
       "      <td>2178.000000</td>\n",
       "      <td>689.910000</td>\n",
       "    </tr>\n",
       "    <tr>\n",
       "      <th>50%</th>\n",
       "      <td>5.074561e+08</td>\n",
       "      <td>5.074561e+08</td>\n",
       "      <td>7500.000000</td>\n",
       "      <td>3184.860000</td>\n",
       "      <td>87.900000</td>\n",
       "      <td>535.000000</td>\n",
       "      <td>535.000000</td>\n",
       "      <td>4733.000000</td>\n",
       "      <td>2451.760000</td>\n",
       "    </tr>\n",
       "    <tr>\n",
       "      <th>75%</th>\n",
       "      <td>7.676200e+08</td>\n",
       "      <td>7.676200e+08</td>\n",
       "      <td>15000.000000</td>\n",
       "      <td>7500.000000</td>\n",
       "      <td>191.480000</td>\n",
       "      <td>785.000000</td>\n",
       "      <td>785.000000</td>\n",
       "      <td>7338.000000</td>\n",
       "      <td>5291.095000</td>\n",
       "    </tr>\n",
       "    <tr>\n",
       "      <th>max</th>\n",
       "      <td>9.993896e+08</td>\n",
       "      <td>9.993896e+08</td>\n",
       "      <td>50000.000000</td>\n",
       "      <td>50000.000000</td>\n",
       "      <td>2011.540000</td>\n",
       "      <td>998.000000</td>\n",
       "      <td>998.000000</td>\n",
       "      <td>9998.000000</td>\n",
       "      <td>47498.810000</td>\n",
       "    </tr>\n",
       "  </tbody>\n",
       "</table>\n",
       "</div>"
      ],
      "text/plain": [
       "       accountNumber    customerId    creditLimit  availableMoney  \\\n",
       "count   7.863630e+05  7.863630e+05  786363.000000   786363.000000   \n",
       "mean    5.372326e+08  5.372326e+08   10759.464459     6250.725369   \n",
       "std     2.554211e+08  2.554211e+08   11636.174890     8880.783989   \n",
       "min     1.000881e+08  1.000881e+08     250.000000    -1005.630000   \n",
       "25%     3.301333e+08  3.301333e+08    5000.000000     1077.420000   \n",
       "50%     5.074561e+08  5.074561e+08    7500.000000     3184.860000   \n",
       "75%     7.676200e+08  7.676200e+08   15000.000000     7500.000000   \n",
       "max     9.993896e+08  9.993896e+08   50000.000000    50000.000000   \n",
       "\n",
       "       transactionAmount        cardCVV     enteredCVV  cardLast4Digits  \\\n",
       "count      786363.000000  786363.000000  786363.000000    786363.000000   \n",
       "mean          136.985791     544.467338     544.183857      4757.417799   \n",
       "std           147.725569     261.524220     261.551254      2996.583810   \n",
       "min             0.000000     100.000000       0.000000         0.000000   \n",
       "25%            33.650000     310.000000     310.000000      2178.000000   \n",
       "50%            87.900000     535.000000     535.000000      4733.000000   \n",
       "75%           191.480000     785.000000     785.000000      7338.000000   \n",
       "max          2011.540000     998.000000     998.000000      9998.000000   \n",
       "\n",
       "       currentBalance  \n",
       "count   786363.000000  \n",
       "mean      4508.739089  \n",
       "std       6457.442068  \n",
       "min          0.000000  \n",
       "25%        689.910000  \n",
       "50%       2451.760000  \n",
       "75%       5291.095000  \n",
       "max      47498.810000  "
      ]
     },
     "execution_count": 11,
     "metadata": {},
     "output_type": "execute_result"
    }
   ],
   "source": [
    "dataset.describe()"
   ]
  },
  {
   "cell_type": "markdown",
   "id": "5a531bd9",
   "metadata": {},
   "source": [
    "Below information shows the statistics of the non-numerical or categorical variables in the dataset. <br> <br>\n",
    "The count shows number of values for each column. <br>\n",
    "For some of the columns, the count is low due to missing values.<br>\n",
    "The unique shoes the number of unique values in each column. <br>\n",
    "The top shows the value that is the most repeating value in a particular column. <br>The freq is the frequency of the top or most repeating value. <br> <br>\n",
    "Most of the transactions are from US and through \"online_retail\"."
   ]
  },
  {
   "cell_type": "code",
   "execution_count": 12,
   "id": "394ff0cc",
   "metadata": {},
   "outputs": [
    {
     "data": {
      "text/html": [
       "<div>\n",
       "<style scoped>\n",
       "    .dataframe tbody tr th:only-of-type {\n",
       "        vertical-align: middle;\n",
       "    }\n",
       "\n",
       "    .dataframe tbody tr th {\n",
       "        vertical-align: top;\n",
       "    }\n",
       "\n",
       "    .dataframe thead th {\n",
       "        text-align: right;\n",
       "    }\n",
       "</style>\n",
       "<table border=\"1\" class=\"dataframe\">\n",
       "  <thead>\n",
       "    <tr style=\"text-align: right;\">\n",
       "      <th></th>\n",
       "      <th>transactionDateTime</th>\n",
       "      <th>merchantName</th>\n",
       "      <th>acqCountry</th>\n",
       "      <th>merchantCountryCode</th>\n",
       "      <th>posEntryMode</th>\n",
       "      <th>posConditionCode</th>\n",
       "      <th>merchantCategoryCode</th>\n",
       "      <th>currentExpDate</th>\n",
       "      <th>accountOpenDate</th>\n",
       "      <th>dateOfLastAddressChange</th>\n",
       "      <th>transactionType</th>\n",
       "      <th>cardPresent</th>\n",
       "      <th>expirationDateKeyInMatch</th>\n",
       "      <th>isFraud</th>\n",
       "    </tr>\n",
       "  </thead>\n",
       "  <tbody>\n",
       "    <tr>\n",
       "      <th>count</th>\n",
       "      <td>786363</td>\n",
       "      <td>786363</td>\n",
       "      <td>781801</td>\n",
       "      <td>785639</td>\n",
       "      <td>782309</td>\n",
       "      <td>785954</td>\n",
       "      <td>786363</td>\n",
       "      <td>786363</td>\n",
       "      <td>786363</td>\n",
       "      <td>786363</td>\n",
       "      <td>785665</td>\n",
       "      <td>786363</td>\n",
       "      <td>786363</td>\n",
       "      <td>786363</td>\n",
       "    </tr>\n",
       "    <tr>\n",
       "      <th>unique</th>\n",
       "      <td>776637</td>\n",
       "      <td>2490</td>\n",
       "      <td>4</td>\n",
       "      <td>4</td>\n",
       "      <td>5</td>\n",
       "      <td>3</td>\n",
       "      <td>19</td>\n",
       "      <td>165</td>\n",
       "      <td>1820</td>\n",
       "      <td>2184</td>\n",
       "      <td>3</td>\n",
       "      <td>2</td>\n",
       "      <td>2</td>\n",
       "      <td>2</td>\n",
       "    </tr>\n",
       "    <tr>\n",
       "      <th>top</th>\n",
       "      <td>2016-12-25T14:04:15</td>\n",
       "      <td>Uber</td>\n",
       "      <td>US</td>\n",
       "      <td>US</td>\n",
       "      <td>05</td>\n",
       "      <td>01</td>\n",
       "      <td>online_retail</td>\n",
       "      <td>03/2029</td>\n",
       "      <td>2014-06-21</td>\n",
       "      <td>2016-03-15</td>\n",
       "      <td>PURCHASE</td>\n",
       "      <td>False</td>\n",
       "      <td>False</td>\n",
       "      <td>False</td>\n",
       "    </tr>\n",
       "    <tr>\n",
       "      <th>freq</th>\n",
       "      <td>4</td>\n",
       "      <td>25613</td>\n",
       "      <td>774709</td>\n",
       "      <td>778511</td>\n",
       "      <td>315035</td>\n",
       "      <td>628787</td>\n",
       "      <td>202156</td>\n",
       "      <td>5103</td>\n",
       "      <td>33623</td>\n",
       "      <td>3819</td>\n",
       "      <td>745193</td>\n",
       "      <td>433495</td>\n",
       "      <td>785320</td>\n",
       "      <td>773946</td>\n",
       "    </tr>\n",
       "  </tbody>\n",
       "</table>\n",
       "</div>"
      ],
      "text/plain": [
       "        transactionDateTime merchantName acqCountry merchantCountryCode  \\\n",
       "count                786363       786363     781801              785639   \n",
       "unique               776637         2490          4                   4   \n",
       "top     2016-12-25T14:04:15         Uber         US                  US   \n",
       "freq                      4        25613     774709              778511   \n",
       "\n",
       "       posEntryMode posConditionCode merchantCategoryCode currentExpDate  \\\n",
       "count        782309           785954               786363         786363   \n",
       "unique            5                3                   19            165   \n",
       "top              05               01        online_retail        03/2029   \n",
       "freq         315035           628787               202156           5103   \n",
       "\n",
       "       accountOpenDate dateOfLastAddressChange transactionType cardPresent  \\\n",
       "count           786363                  786363          785665      786363   \n",
       "unique            1820                    2184               3           2   \n",
       "top         2014-06-21              2016-03-15        PURCHASE       False   \n",
       "freq             33623                    3819          745193      433495   \n",
       "\n",
       "       expirationDateKeyInMatch isFraud  \n",
       "count                    786363  786363  \n",
       "unique                        2       2  \n",
       "top                       False   False  \n",
       "freq                     785320  773946  "
      ]
     },
     "execution_count": 12,
     "metadata": {},
     "output_type": "execute_result"
    }
   ],
   "source": [
    "dataset.describe(exclude=[np.number])"
   ]
  },
  {
   "cell_type": "markdown",
   "id": "7e4e04f6",
   "metadata": {},
   "source": [
    "# handling missing values"
   ]
  },
  {
   "cell_type": "markdown",
   "id": "144b68e3",
   "metadata": {},
   "source": [
    "We can see that some of the columns have missing values."
   ]
  },
  {
   "cell_type": "code",
   "execution_count": 13,
   "id": "06d41990",
   "metadata": {},
   "outputs": [
    {
     "data": {
      "text/plain": [
       "accountNumber                  0\n",
       "customerId                     0\n",
       "creditLimit                    0\n",
       "availableMoney                 0\n",
       "transactionDateTime            0\n",
       "transactionAmount              0\n",
       "merchantName                   0\n",
       "acqCountry                  4562\n",
       "merchantCountryCode          724\n",
       "posEntryMode                4054\n",
       "posConditionCode             409\n",
       "merchantCategoryCode           0\n",
       "currentExpDate                 0\n",
       "accountOpenDate                0\n",
       "dateOfLastAddressChange        0\n",
       "cardCVV                        0\n",
       "enteredCVV                     0\n",
       "cardLast4Digits                0\n",
       "transactionType              698\n",
       "currentBalance                 0\n",
       "cardPresent                    0\n",
       "expirationDateKeyInMatch       0\n",
       "isFraud                        0\n",
       "dtype: int64"
      ]
     },
     "execution_count": 13,
     "metadata": {},
     "output_type": "execute_result"
    }
   ],
   "source": [
    "dataset.isna().sum()"
   ]
  },
  {
   "cell_type": "markdown",
   "id": "f0efd49e",
   "metadata": {},
   "source": [
    "As all the columns/fields that contain missing values are of categorical type, we can fill the missing values using mode or most repeated value from that particular column."
   ]
  },
  {
   "cell_type": "code",
   "execution_count": 14,
   "id": "15bdee47",
   "metadata": {},
   "outputs": [
    {
     "data": {
      "text/plain": [
       "accountNumber               0\n",
       "customerId                  0\n",
       "creditLimit                 0\n",
       "availableMoney              0\n",
       "transactionDateTime         0\n",
       "transactionAmount           0\n",
       "merchantName                0\n",
       "acqCountry                  0\n",
       "merchantCountryCode         0\n",
       "posEntryMode                0\n",
       "posConditionCode            0\n",
       "merchantCategoryCode        0\n",
       "currentExpDate              0\n",
       "accountOpenDate             0\n",
       "dateOfLastAddressChange     0\n",
       "cardCVV                     0\n",
       "enteredCVV                  0\n",
       "cardLast4Digits             0\n",
       "transactionType             0\n",
       "currentBalance              0\n",
       "cardPresent                 0\n",
       "expirationDateKeyInMatch    0\n",
       "isFraud                     0\n",
       "dtype: int64"
      ]
     },
     "execution_count": 14,
     "metadata": {},
     "output_type": "execute_result"
    }
   ],
   "source": [
    "dataset.fillna(dataset.mode().iloc[0], inplace=True)\n",
    "dataset.isna().sum()"
   ]
  },
  {
   "cell_type": "markdown",
   "id": "0e2c360f",
   "metadata": {},
   "source": [
    "# feature creation"
   ]
  },
  {
   "cell_type": "markdown",
   "id": "9bee0825",
   "metadata": {},
   "source": [
    "Converting the transactionDateTime column to datetime format."
   ]
  },
  {
   "cell_type": "code",
   "execution_count": 15,
   "id": "f3d8edeb",
   "metadata": {},
   "outputs": [],
   "source": [
    "dataset['transactionDateTime'] = pd.to_datetime(dataset['transactionDateTime'])"
   ]
  },
  {
   "cell_type": "markdown",
   "id": "4bdfd6f3",
   "metadata": {},
   "source": [
    "As we cannot directly work with dattime fields for training the models, created two new columns \"DayofWeek\" and \"Hour\" from the \"transactionDateTime\" column. <br>\n",
    "These two columns were created based on assumption that fraud transactions happen most during certain days and during certain hours of the day.\n",
    "<br> <br>\n",
    "NOTE :  Created \"Quarter\" and \"Month\" columns from \"transactionDateTime\". Have removed them as they were not that useful in the models. <br>\n",
    "Also created bins from \"Hour\" column. Have created four bins for 24 hours. Removed the feature as it was not useful when it comes to model."
   ]
  },
  {
   "cell_type": "code",
   "execution_count": 16,
   "id": "3db34eaa",
   "metadata": {},
   "outputs": [],
   "source": [
    "dataset['transactionDateTime_dayofweek'] = dataset['transactionDateTime'].dt.dayofweek\n",
    "dataset['transactionDateTime_hour'] = dataset['transactionDateTime'].dt.hour"
   ]
  },
  {
   "cell_type": "markdown",
   "id": "acb2dcfb",
   "metadata": {},
   "source": [
    "This feature is based on the assumption that a fraud do not know the balance amount in a particular account. <br> So, an amount greater than available balance can be used from the card in that case."
   ]
  },
  {
   "cell_type": "code",
   "execution_count": 17,
   "id": "43dd4de2",
   "metadata": {},
   "outputs": [],
   "source": [
    "dataset['TA>AM'] = dataset['transactionAmount'] > dataset['availableMoney']"
   ]
  },
  {
   "cell_type": "markdown",
   "id": "9dc32519",
   "metadata": {},
   "source": [
    "Creating new feature/column \"CVVMatched\" which will be True if cvv from \"cardCVV\" and \"enteredCVV\" are the same. <br>\n",
    "As both the columns has only CVV values, they are not useful for machine learning models. <br> \n",
    "The new feature \"CVVMatched\" will be able to retain some amount of information from the other two features \"cardCVV\" and \"enteredCVV\""
   ]
  },
  {
   "cell_type": "code",
   "execution_count": 18,
   "id": "dffedf58",
   "metadata": {},
   "outputs": [],
   "source": [
    "dataset['CVVMatched'] = dataset['cardCVV']==dataset['enteredCVV']"
   ]
  },
  {
   "cell_type": "markdown",
   "id": "3fcc8a04",
   "metadata": {},
   "source": [
    "Final dataset after feature creation"
   ]
  },
  {
   "cell_type": "code",
   "execution_count": 19,
   "id": "d3baa68b",
   "metadata": {},
   "outputs": [
    {
     "data": {
      "text/html": [
       "<div>\n",
       "<style scoped>\n",
       "    .dataframe tbody tr th:only-of-type {\n",
       "        vertical-align: middle;\n",
       "    }\n",
       "\n",
       "    .dataframe tbody tr th {\n",
       "        vertical-align: top;\n",
       "    }\n",
       "\n",
       "    .dataframe thead th {\n",
       "        text-align: right;\n",
       "    }\n",
       "</style>\n",
       "<table border=\"1\" class=\"dataframe\">\n",
       "  <thead>\n",
       "    <tr style=\"text-align: right;\">\n",
       "      <th></th>\n",
       "      <th>accountNumber</th>\n",
       "      <th>customerId</th>\n",
       "      <th>creditLimit</th>\n",
       "      <th>availableMoney</th>\n",
       "      <th>transactionDateTime</th>\n",
       "      <th>transactionAmount</th>\n",
       "      <th>merchantName</th>\n",
       "      <th>acqCountry</th>\n",
       "      <th>merchantCountryCode</th>\n",
       "      <th>posEntryMode</th>\n",
       "      <th>...</th>\n",
       "      <th>cardLast4Digits</th>\n",
       "      <th>transactionType</th>\n",
       "      <th>currentBalance</th>\n",
       "      <th>cardPresent</th>\n",
       "      <th>expirationDateKeyInMatch</th>\n",
       "      <th>isFraud</th>\n",
       "      <th>transactionDateTime_dayofweek</th>\n",
       "      <th>transactionDateTime_hour</th>\n",
       "      <th>TA&gt;AM</th>\n",
       "      <th>CVVMatched</th>\n",
       "    </tr>\n",
       "  </thead>\n",
       "  <tbody>\n",
       "    <tr>\n",
       "      <th>0</th>\n",
       "      <td>737265056</td>\n",
       "      <td>737265056</td>\n",
       "      <td>5000</td>\n",
       "      <td>5000.0</td>\n",
       "      <td>2016-08-13 14:27:32</td>\n",
       "      <td>98.55</td>\n",
       "      <td>Uber</td>\n",
       "      <td>US</td>\n",
       "      <td>US</td>\n",
       "      <td>02</td>\n",
       "      <td>...</td>\n",
       "      <td>1803</td>\n",
       "      <td>PURCHASE</td>\n",
       "      <td>0.0</td>\n",
       "      <td>False</td>\n",
       "      <td>False</td>\n",
       "      <td>False</td>\n",
       "      <td>5</td>\n",
       "      <td>14</td>\n",
       "      <td>False</td>\n",
       "      <td>True</td>\n",
       "    </tr>\n",
       "    <tr>\n",
       "      <th>1</th>\n",
       "      <td>737265056</td>\n",
       "      <td>737265056</td>\n",
       "      <td>5000</td>\n",
       "      <td>5000.0</td>\n",
       "      <td>2016-10-11 05:05:54</td>\n",
       "      <td>74.51</td>\n",
       "      <td>AMC #191138</td>\n",
       "      <td>US</td>\n",
       "      <td>US</td>\n",
       "      <td>09</td>\n",
       "      <td>...</td>\n",
       "      <td>767</td>\n",
       "      <td>PURCHASE</td>\n",
       "      <td>0.0</td>\n",
       "      <td>True</td>\n",
       "      <td>False</td>\n",
       "      <td>False</td>\n",
       "      <td>1</td>\n",
       "      <td>5</td>\n",
       "      <td>False</td>\n",
       "      <td>True</td>\n",
       "    </tr>\n",
       "    <tr>\n",
       "      <th>2</th>\n",
       "      <td>737265056</td>\n",
       "      <td>737265056</td>\n",
       "      <td>5000</td>\n",
       "      <td>5000.0</td>\n",
       "      <td>2016-11-08 09:18:39</td>\n",
       "      <td>7.47</td>\n",
       "      <td>Play Store</td>\n",
       "      <td>US</td>\n",
       "      <td>US</td>\n",
       "      <td>09</td>\n",
       "      <td>...</td>\n",
       "      <td>767</td>\n",
       "      <td>PURCHASE</td>\n",
       "      <td>0.0</td>\n",
       "      <td>False</td>\n",
       "      <td>False</td>\n",
       "      <td>False</td>\n",
       "      <td>1</td>\n",
       "      <td>9</td>\n",
       "      <td>False</td>\n",
       "      <td>True</td>\n",
       "    </tr>\n",
       "    <tr>\n",
       "      <th>3</th>\n",
       "      <td>737265056</td>\n",
       "      <td>737265056</td>\n",
       "      <td>5000</td>\n",
       "      <td>5000.0</td>\n",
       "      <td>2016-12-10 02:14:50</td>\n",
       "      <td>7.47</td>\n",
       "      <td>Play Store</td>\n",
       "      <td>US</td>\n",
       "      <td>US</td>\n",
       "      <td>09</td>\n",
       "      <td>...</td>\n",
       "      <td>767</td>\n",
       "      <td>PURCHASE</td>\n",
       "      <td>0.0</td>\n",
       "      <td>False</td>\n",
       "      <td>False</td>\n",
       "      <td>False</td>\n",
       "      <td>5</td>\n",
       "      <td>2</td>\n",
       "      <td>False</td>\n",
       "      <td>True</td>\n",
       "    </tr>\n",
       "    <tr>\n",
       "      <th>4</th>\n",
       "      <td>830329091</td>\n",
       "      <td>830329091</td>\n",
       "      <td>5000</td>\n",
       "      <td>5000.0</td>\n",
       "      <td>2016-03-24 21:04:46</td>\n",
       "      <td>71.18</td>\n",
       "      <td>Tim Hortons #947751</td>\n",
       "      <td>US</td>\n",
       "      <td>US</td>\n",
       "      <td>02</td>\n",
       "      <td>...</td>\n",
       "      <td>3143</td>\n",
       "      <td>PURCHASE</td>\n",
       "      <td>0.0</td>\n",
       "      <td>True</td>\n",
       "      <td>False</td>\n",
       "      <td>False</td>\n",
       "      <td>3</td>\n",
       "      <td>21</td>\n",
       "      <td>False</td>\n",
       "      <td>True</td>\n",
       "    </tr>\n",
       "  </tbody>\n",
       "</table>\n",
       "<p>5 rows × 27 columns</p>\n",
       "</div>"
      ],
      "text/plain": [
       "   accountNumber  customerId  creditLimit  availableMoney transactionDateTime  \\\n",
       "0      737265056   737265056         5000          5000.0 2016-08-13 14:27:32   \n",
       "1      737265056   737265056         5000          5000.0 2016-10-11 05:05:54   \n",
       "2      737265056   737265056         5000          5000.0 2016-11-08 09:18:39   \n",
       "3      737265056   737265056         5000          5000.0 2016-12-10 02:14:50   \n",
       "4      830329091   830329091         5000          5000.0 2016-03-24 21:04:46   \n",
       "\n",
       "   transactionAmount         merchantName acqCountry merchantCountryCode  \\\n",
       "0              98.55                 Uber         US                  US   \n",
       "1              74.51          AMC #191138         US                  US   \n",
       "2               7.47           Play Store         US                  US   \n",
       "3               7.47           Play Store         US                  US   \n",
       "4              71.18  Tim Hortons #947751         US                  US   \n",
       "\n",
       "  posEntryMode  ... cardLast4Digits transactionType currentBalance  \\\n",
       "0           02  ...            1803        PURCHASE            0.0   \n",
       "1           09  ...             767        PURCHASE            0.0   \n",
       "2           09  ...             767        PURCHASE            0.0   \n",
       "3           09  ...             767        PURCHASE            0.0   \n",
       "4           02  ...            3143        PURCHASE            0.0   \n",
       "\n",
       "  cardPresent expirationDateKeyInMatch  isFraud  \\\n",
       "0       False                    False    False   \n",
       "1        True                    False    False   \n",
       "2       False                    False    False   \n",
       "3       False                    False    False   \n",
       "4        True                    False    False   \n",
       "\n",
       "   transactionDateTime_dayofweek  transactionDateTime_hour  TA>AM  CVVMatched  \n",
       "0                              5                        14  False        True  \n",
       "1                              1                         5  False        True  \n",
       "2                              1                         9  False        True  \n",
       "3                              5                         2  False        True  \n",
       "4                              3                        21  False        True  \n",
       "\n",
       "[5 rows x 27 columns]"
      ]
     },
     "execution_count": 19,
     "metadata": {},
     "output_type": "execute_result"
    }
   ],
   "source": [
    "dataset.head()"
   ]
  },
  {
   "cell_type": "markdown",
   "id": "8b01b0a4",
   "metadata": {},
   "source": [
    "# data analysis and visualization"
   ]
  },
  {
   "cell_type": "markdown",
   "id": "b143a5dc",
   "metadata": {},
   "source": [
    "Dataset is highly imbalanced"
   ]
  },
  {
   "cell_type": "code",
   "execution_count": 476,
   "id": "40f95c8f",
   "metadata": {},
   "outputs": [
    {
     "data": {
      "image/png": "[encoded data removed]",
      "text/plain": [
       "<Figure size 720x360 with 1 Axes>"
      ]
     },
     "metadata": {
      "needs_background": "light"
     },
     "output_type": "display_data"
    }
   ],
   "source": [
    "plt.figure(figsize=(10,5))\n",
    "plt.grid(axis='y')\n",
    "plt.hist(dataset['isFraud'].values*1, bins=3, color='green')\n",
    "plt.title('Histogram for isFraud', fontweight='bold')\n",
    "plt.xlabel('isFraud', fontweight='bold')\n",
    "plt.ylabel('Total Transactions', fontweight='bold')\n",
    "plt.xticks([0.15,0.85],['No','Yes'])\n",
    "plt.show()"
   ]
  },
  {
   "cell_type": "markdown",
   "id": "8d6b0b29",
   "metadata": {},
   "source": [
    "Creating a copy of only fraud transactions for analysis"
   ]
  },
  {
   "cell_type": "code",
   "execution_count": 438,
   "id": "05c870b8",
   "metadata": {},
   "outputs": [],
   "source": [
    "fraud_data = dataset[dataset['isFraud']==True]"
   ]
  },
  {
   "cell_type": "code",
   "execution_count": 455,
   "id": "33365f34",
   "metadata": {},
   "outputs": [
    {
     "data": {
      "image/png": "[encoded data removed]",
      "text/plain": [
       "<Figure size 720x360 with 1 Axes>"
      ]
     },
     "metadata": {
      "needs_background": "light"
     },
     "output_type": "display_data"
    },
    {
     "data": {
      "image/png": "[encoded data removed]",
      "text/plain": [
       "<Figure size 720x360 with 1 Axes>"
      ]
     },
     "metadata": {
      "needs_background": "light"
     },
     "output_type": "display_data"
    }
   ],
   "source": [
    "plt.figure(figsize=(10,5))\n",
    "plt.grid(axis='y')\n",
    "plt.hist(dataset['transactionAmount'].values, bins=100)\n",
    "plt.title('Histogram for TransactionAmount', fontweight='bold')\n",
    "plt.xlabel('Transaction Amount', fontweight='bold')\n",
    "plt.ylabel('Total Transactions', fontweight='bold')\n",
    "plt.show()\n",
    "\n",
    "plt.figure(figsize=(10,5))\n",
    "plt.grid(axis='y')\n",
    "plt.hist(fraud_data['transactionAmount'].values, bins=100, color='crimson')\n",
    "plt.title('Fraud vs TransactionAmount', fontweight='bold')\n",
    "plt.xlabel('Transaction Amount', fontweight='bold')\n",
    "plt.ylabel('Total Fraud Transactions', fontweight='bold')\n",
    "plt.show()"
   ]
  },
  {
   "cell_type": "markdown",
   "id": "57ada2be",
   "metadata": {},
   "source": [
    "From the above histogram we can see that most of the transaction amounts are less than 500. <br>\n",
    "From below histogram, we can see that most of the fraud transaction amounts are low. <br>\n",
    "If we consider a frequency of 100, the transactions amounts are < 500.\n"
   ]
  },
  {
   "cell_type": "code",
   "execution_count": 456,
   "id": "55f29d27",
   "metadata": {},
   "outputs": [
    {
     "data": {
      "image/png": "[encoded data removed]",
      "text/plain": [
       "<Figure size 720x360 with 1 Axes>"
      ]
     },
     "metadata": {
      "needs_background": "light"
     },
     "output_type": "display_data"
    },
    {
     "data": {
      "image/png": "[encoded data removed]",
      "text/plain": [
       "<Figure size 720x360 with 1 Axes>"
      ]
     },
     "metadata": {
      "needs_background": "light"
     },
     "output_type": "display_data"
    }
   ],
   "source": [
    "plt.figure(figsize=(10,5))\n",
    "plt.grid(axis='y')\n",
    "plt.hist(dataset['creditLimit'].values, bins=50)\n",
    "plt.title('Histogram for Credit Limit', fontweight='bold')\n",
    "plt.xlabel('Credit Limit', fontweight='bold')\n",
    "plt.ylabel('Total Transactions', fontweight='bold')\n",
    "plt.xticks([1000,2500,5000,7500,10000,15000,20000,50000], rotation=90)\n",
    "plt.show()\n",
    "\n",
    "plt.figure(figsize=(10,5))\n",
    "plt.grid(axis='y')\n",
    "plt.hist(fraud_data['creditLimit'].values, bins=50, color='crimson')\n",
    "plt.title('Fraud vs Credit Limit', fontweight='bold')\n",
    "plt.xlabel('Credit Limit', fontweight='bold')\n",
    "plt.ylabel('Total Fraud Transactions', fontweight='bold')\n",
    "plt.xticks([1000,2500,5000,7500,10000,15000,20000,50000], rotation=90)\n",
    "plt.show()"
   ]
  },
  {
   "cell_type": "markdown",
   "id": "8af7cbb4",
   "metadata": {},
   "source": [
    "From above graphs, we can see that credit limit of 5000 is more compared to other credit limits. <br>\n",
    "Also the number of fraud transactions is relatively high for accounts with credit limit of 5000."
   ]
  },
  {
   "cell_type": "code",
   "execution_count": 457,
   "id": "254610e5",
   "metadata": {},
   "outputs": [
    {
     "data": {
      "image/png": "[encoded data removed]",
      "text/plain": [
       "<Figure size 720x360 with 1 Axes>"
      ]
     },
     "metadata": {
      "needs_background": "light"
     },
     "output_type": "display_data"
    },
    {
     "data": {
      "image/png": "[encoded data removed]",
      "text/plain": [
       "<Figure size 720x360 with 1 Axes>"
      ]
     },
     "metadata": {
      "needs_background": "light"
     },
     "output_type": "display_data"
    }
   ],
   "source": [
    "plt.figure(figsize=(10,5))\n",
    "plt.grid(axis='y')\n",
    "plt.hist(dataset['merchantCategoryCode'].values, bins=50)\n",
    "plt.title('Merchant Histogram', fontweight='bold')\n",
    "plt.xlabel('Merchant Category', fontweight='bold')\n",
    "plt.ylabel('Total Transactions', fontweight='bold')\n",
    "plt.xticks(rotation=90)\n",
    "plt.show()\n",
    "\n",
    "plt.figure(figsize=(10,5))\n",
    "plt.grid(axis='y')\n",
    "plt.hist(fraud_data['merchantCategoryCode'].values, bins=50, color='crimson')\n",
    "plt.title('Fraud vs Merchant', fontweight='bold')\n",
    "plt.xlabel('Merchant Category', fontweight='bold')\n",
    "plt.ylabel('Total Fraud Transactions', fontweight='bold')\n",
    "plt.xticks(rotation=90)\n",
    "plt.show()"
   ]
  },
  {
   "cell_type": "markdown",
   "id": "458a1ed6",
   "metadata": {},
   "source": [
    "From Merchant histograms, we can see that online retail has most number of transactions compared to others. <br>\n",
    "Also the online retail has the most number of fraud transactions. <br>\n",
    "\n",
    "The Merchants like \"rideshare\", \"mobileapps\", \"food_delivery\", \"online_retail\", \"gym\", \"fuel\", \"online_subscriptions\", \"hotels\", \"cable/phone\" does not have any fraud transactions.\n"
   ]
  },
  {
   "cell_type": "code",
   "execution_count": 459,
   "id": "9eb151db",
   "metadata": {},
   "outputs": [
    {
     "data": {
      "image/png": "[encoded data removed]",
      "text/plain": [
       "<Figure size 720x360 with 1 Axes>"
      ]
     },
     "metadata": {
      "needs_background": "light"
     },
     "output_type": "display_data"
    },
    {
     "data": {
      "image/png": "[encoded data removed]",
      "text/plain": [
       "<Figure size 720x360 with 1 Axes>"
      ]
     },
     "metadata": {
      "needs_background": "light"
     },
     "output_type": "display_data"
    }
   ],
   "source": [
    "plt.figure(figsize=(10,5))\n",
    "plt.grid(axis='y')\n",
    "plt.hist(dataset['transactionDateTime_dayofweek'].values, bins=13)\n",
    "plt.title('Day of Week Histogram', fontweight='bold')\n",
    "plt.xlabel('Day of Week', fontweight='bold')\n",
    "plt.ylabel('Total Transactions', fontweight='bold')\n",
    "plt.xticks([0,1,2,3,4,5,6],['Monday','Tuesday','Wednesday','Thursday','Friday','Saturday','Sunday'], rotation=90)\n",
    "plt.show()\n",
    "\n",
    "plt.figure(figsize=(10,5))\n",
    "plt.grid(axis='y')\n",
    "plt.hist(fraud_data['transactionDateTime_dayofweek'].values, bins=13, color='crimson')\n",
    "plt.title('Fraud vs Day of Week', fontweight='bold')\n",
    "plt.xlabel('Day of Week', fontweight='bold')\n",
    "plt.ylabel('Total Fraud Transactions', fontweight='bold')\n",
    "plt.xticks([0,1,2,3,4,5,6],['Monday','Tuesday','Wednesday','Thursday','Friday','Saturday','Sunday'], rotation=90)\n",
    "plt.show()"
   ]
  },
  {
   "cell_type": "markdown",
   "id": "5f36e23f",
   "metadata": {},
   "source": [
    "From above graph, the total transactions and total fraud transactions are almost same on everyday."
   ]
  },
  {
   "cell_type": "code",
   "execution_count": 460,
   "id": "2cc5b4bc",
   "metadata": {},
   "outputs": [
    {
     "data": {
      "image/png": "[encoded data removed]",
      "text/plain": [
       "<Figure size 720x360 with 1 Axes>"
      ]
     },
     "metadata": {
      "needs_background": "light"
     },
     "output_type": "display_data"
    },
    {
     "data": {
      "image/png": "[encoded data removed]",
      "text/plain": [
       "<Figure size 720x360 with 1 Axes>"
      ]
     },
     "metadata": {
      "needs_background": "light"
     },
     "output_type": "display_data"
    }
   ],
   "source": [
    "plt.figure(figsize=(10,5))\n",
    "plt.grid(axis='y')\n",
    "plt.hist(dataset['transactionDateTime_hour'].values, bins=50)\n",
    "plt.title('Hour of the Day Histogram', fontweight='bold')\n",
    "plt.xlabel('Hour of the Day', fontweight='bold')\n",
    "plt.ylabel('Total Transactions', fontweight='bold')\n",
    "plt.xticks(list(range(0,24)))\n",
    "plt.show()\n",
    "\n",
    "plt.figure(figsize=(10,5))\n",
    "plt.grid(axis='y')\n",
    "plt.hist(fraud_data['transactionDateTime_hour'].values, bins=50, color='crimson')\n",
    "plt.title('Fraud vs Hour of the Day', fontweight='bold')\n",
    "plt.xlabel('Hour of the Day', fontweight='bold')\n",
    "plt.ylabel('Total Fraud Transactions', fontweight='bold')\n",
    "plt.xticks(list(range(0,24)))\n",
    "plt.show()"
   ]
  },
  {
   "cell_type": "markdown",
   "id": "f446ae48",
   "metadata": {},
   "source": [
    "From above graph, the total transactions and total fraud transactions are almost same on every hour of the day."
   ]
  },
  {
   "cell_type": "markdown",
   "id": "5580aa44",
   "metadata": {},
   "source": [
    "# duplicate transactions (refund and multiswipe)"
   ]
  },
  {
   "cell_type": "markdown",
   "id": "46c7c08b",
   "metadata": {},
   "source": [
    "Upon thorough analysis on the dataset, refund can be identified from the feature \"transactionType\" which has \"REVERSAL\" category for refund transactions. <br><br>\n",
    "Multiswipe transactions can be identified using the feature \"transactionDateTime\". For a duplicate transaction of this type to happen, transactions must be on the same day from the same \"accountNumber\". Also the \"transactionAmount\" and \"Merchant\" should be the same. <br><br>\n",
    "NOTE: verified that all reversal transactions have a purchase transaction before in the dataset."
   ]
  },
  {
   "cell_type": "markdown",
   "id": "486eb748",
   "metadata": {},
   "source": [
    "Creating data for refund and multiswipe transactions. <br> <br>\n",
    "dup_mul_df dataframe will contain both original and duplicate transactions for multiswipe."
   ]
  },
  {
   "cell_type": "code",
   "execution_count": 461,
   "id": "18a06e67",
   "metadata": {},
   "outputs": [],
   "source": [
    "dup_data = dataset[['accountNumber','transactionDateTime','transactionAmount','merchantName','transactionType']]\n",
    "s = list(set(dup_data['accountNumber'].values))"
   ]
  },
  {
   "cell_type": "code",
   "execution_count": null,
   "id": "e1dfcc3e",
   "metadata": {},
   "outputs": [],
   "source": [
    "dup_mul = []\n",
    "\n",
    "for i in range(len(s)):\n",
    "    temp = dup_data[dup_data['accountNumber'] == s[i]]\n",
    "    temp.reset_index(inplace=True, drop=True)\n",
    "    \n",
    "    temp_nr = temp[temp['transactionType'] != 'REVERSAL']\n",
    "    temp_nr.reset_index(inplace=True, drop=True)\n",
    "    \n",
    "    for j in range(0, len(temp_nr)-1):\n",
    "        flag = 0\n",
    "        \n",
    "        for k in range(j+1, len(temp_nr)):\n",
    "        \n",
    "            time_diff = (temp_nr['transactionDateTime'][k] - temp_nr['transactionDateTime'][j])\n",
    "            \n",
    "            if time_diff.days < 1:\n",
    "            \n",
    "                if temp_nr['transactionAmount'][j] == temp_nr['transactionAmount'][k] and \\\n",
    "                temp_nr['merchantName'][j] == temp_nr['merchantName'][k]:\n",
    "\n",
    "                    dup_mul.append(temp_nr.iloc[j,:])\n",
    "                    dup_mul.append(temp_nr.iloc[k,:])\n",
    "                    \n",
    "            else:\n",
    "                flag += 1\n",
    "            \n",
    "            if flag == 5:\n",
    "                break\n",
    "\n",
    "dup_mul = np.array(dup_mul)\n",
    "dup_mul_df = pd.DataFrame(dup_mul, columns=dup_data.columns)\n",
    "dup_mul_df.drop_duplicates(inplace=True)"
   ]
  },
  {
   "cell_type": "code",
   "execution_count": 464,
   "id": "d0b1db94",
   "metadata": {},
   "outputs": [
    {
     "data": {
      "text/html": [
       "<div>\n",
       "<style scoped>\n",
       "    .dataframe tbody tr th:only-of-type {\n",
       "        vertical-align: middle;\n",
       "    }\n",
       "\n",
       "    .dataframe tbody tr th {\n",
       "        vertical-align: top;\n",
       "    }\n",
       "\n",
       "    .dataframe thead th {\n",
       "        text-align: right;\n",
       "    }\n",
       "</style>\n",
       "<table border=\"1\" class=\"dataframe\">\n",
       "  <thead>\n",
       "    <tr style=\"text-align: right;\">\n",
       "      <th></th>\n",
       "      <th>accountNumber</th>\n",
       "      <th>transactionDateTime</th>\n",
       "      <th>transactionAmount</th>\n",
       "      <th>merchantName</th>\n",
       "      <th>transactionType</th>\n",
       "    </tr>\n",
       "  </thead>\n",
       "  <tbody>\n",
       "    <tr>\n",
       "      <th>0</th>\n",
       "      <td>863174657</td>\n",
       "      <td>2016-06-04 18:07:59</td>\n",
       "      <td>140.5</td>\n",
       "      <td>walmart.com</td>\n",
       "      <td>PURCHASE</td>\n",
       "    </tr>\n",
       "    <tr>\n",
       "      <th>1</th>\n",
       "      <td>863174657</td>\n",
       "      <td>2016-06-04 18:10:28</td>\n",
       "      <td>140.5</td>\n",
       "      <td>walmart.com</td>\n",
       "      <td>PURCHASE</td>\n",
       "    </tr>\n",
       "    <tr>\n",
       "      <th>2</th>\n",
       "      <td>687177729</td>\n",
       "      <td>2016-04-15 08:13:03</td>\n",
       "      <td>21.29</td>\n",
       "      <td>Lyft</td>\n",
       "      <td>PURCHASE</td>\n",
       "    </tr>\n",
       "    <tr>\n",
       "      <th>3</th>\n",
       "      <td>687177729</td>\n",
       "      <td>2016-04-15 08:13:09</td>\n",
       "      <td>21.29</td>\n",
       "      <td>Lyft</td>\n",
       "      <td>PURCHASE</td>\n",
       "    </tr>\n",
       "    <tr>\n",
       "      <th>4</th>\n",
       "      <td>169738244</td>\n",
       "      <td>2016-07-09 03:28:04</td>\n",
       "      <td>190.01</td>\n",
       "      <td>Lyft</td>\n",
       "      <td>PURCHASE</td>\n",
       "    </tr>\n",
       "    <tr>\n",
       "      <th>5</th>\n",
       "      <td>169738244</td>\n",
       "      <td>2016-07-09 03:30:25</td>\n",
       "      <td>190.01</td>\n",
       "      <td>Lyft</td>\n",
       "      <td>PURCHASE</td>\n",
       "    </tr>\n",
       "    <tr>\n",
       "      <th>6</th>\n",
       "      <td>737181728</td>\n",
       "      <td>2016-05-30 12:25:24</td>\n",
       "      <td>29.14</td>\n",
       "      <td>Best Bistro #262998</td>\n",
       "      <td>PURCHASE</td>\n",
       "    </tr>\n",
       "    <tr>\n",
       "      <th>7</th>\n",
       "      <td>737181728</td>\n",
       "      <td>2016-05-30 12:27:41</td>\n",
       "      <td>29.14</td>\n",
       "      <td>Best Bistro #262998</td>\n",
       "      <td>PURCHASE</td>\n",
       "    </tr>\n",
       "    <tr>\n",
       "      <th>8</th>\n",
       "      <td>737181728</td>\n",
       "      <td>2016-05-30 20:07:24</td>\n",
       "      <td>22.88</td>\n",
       "      <td>1st Pub</td>\n",
       "      <td>PURCHASE</td>\n",
       "    </tr>\n",
       "    <tr>\n",
       "      <th>9</th>\n",
       "      <td>737181728</td>\n",
       "      <td>2016-05-30 20:08:55</td>\n",
       "      <td>22.88</td>\n",
       "      <td>1st Pub</td>\n",
       "      <td>PURCHASE</td>\n",
       "    </tr>\n",
       "  </tbody>\n",
       "</table>\n",
       "</div>"
      ],
      "text/plain": [
       "  accountNumber transactionDateTime transactionAmount         merchantName  \\\n",
       "0     863174657 2016-06-04 18:07:59             140.5          walmart.com   \n",
       "1     863174657 2016-06-04 18:10:28             140.5          walmart.com   \n",
       "2     687177729 2016-04-15 08:13:03             21.29                 Lyft   \n",
       "3     687177729 2016-04-15 08:13:09             21.29                 Lyft   \n",
       "4     169738244 2016-07-09 03:28:04            190.01                 Lyft   \n",
       "5     169738244 2016-07-09 03:30:25            190.01                 Lyft   \n",
       "6     737181728 2016-05-30 12:25:24             29.14  Best Bistro #262998   \n",
       "7     737181728 2016-05-30 12:27:41             29.14  Best Bistro #262998   \n",
       "8     737181728 2016-05-30 20:07:24             22.88              1st Pub   \n",
       "9     737181728 2016-05-30 20:08:55             22.88              1st Pub   \n",
       "\n",
       "  transactionType  \n",
       "0        PURCHASE  \n",
       "1        PURCHASE  \n",
       "2        PURCHASE  \n",
       "3        PURCHASE  \n",
       "4        PURCHASE  \n",
       "5        PURCHASE  \n",
       "6        PURCHASE  \n",
       "7        PURCHASE  \n",
       "8        PURCHASE  \n",
       "9        PURCHASE  "
      ]
     },
     "execution_count": 464,
     "metadata": {},
     "output_type": "execute_result"
    }
   ],
   "source": [
    "dup_mul_df.head(10)"
   ]
  },
  {
   "cell_type": "markdown",
   "id": "54ca2f32",
   "metadata": {},
   "source": [
    "Plotting total amount for Refund and MultiSwipe transactions"
   ]
  },
  {
   "cell_type": "code",
   "execution_count": 489,
   "id": "21c60b8e",
   "metadata": {},
   "outputs": [
    {
     "data": {
      "image/png": "[encoded data removed]",
      "text/plain": [
       "<Figure size 720x360 with 1 Axes>"
      ]
     },
     "metadata": {
      "needs_background": "light"
     },
     "output_type": "display_data"
    }
   ],
   "source": [
    "x = [0,1]\n",
    "y=[]\n",
    "refund = dataset[dataset['transactionType'] == 'REVERSAL']\n",
    "y.append(refund['transactionAmount'].sum())\n",
    "y.append(round(dup_mul_df['transactionAmount'].sum(),2)/2)\n",
    "\n",
    "plt.figure(figsize=(10,5))\n",
    "plt.grid(axis='y')\n",
    "plt.bar(x, y, color='green')\n",
    "plt.title('Duplicate Transactions', fontweight='bold')\n",
    "plt.xlabel('Duplicate Transaction', fontweight='bold')\n",
    "plt.ylabel('Total Amount', fontweight='bold')\n",
    "plt.xticks([0,1],['Refund','Multi-Swipe'])\n",
    "for i in range(len(x)):\n",
    "    plt.text(x[i]-0.1, y[i]+10000, str(y[i]), fontweight='bold')\n",
    "plt.show()"
   ]
  },
  {
   "cell_type": "markdown",
   "id": "de9b956a",
   "metadata": {},
   "source": [
    "# data preprocessing"
   ]
  },
  {
   "cell_type": "markdown",
   "id": "43a0b26f",
   "metadata": {},
   "source": [
    "Drop unwanted columns."
   ]
  },
  {
   "cell_type": "code",
   "execution_count": 20,
   "id": "4b01b339",
   "metadata": {},
   "outputs": [],
   "source": [
    "dataset.drop(columns=['accountNumber','customerId','transactionDateTime','merchantName',\n",
    "                      'currentExpDate','accountOpenDate','dateOfLastAddressChange',\n",
    "                      'cardCVV','enteredCVV','cardLast4Digits'], inplace=True)"
   ]
  },
  {
   "cell_type": "markdown",
   "id": "9f048adc",
   "metadata": {},
   "source": [
    "Replace True False with 1 and 0."
   ]
  },
  {
   "cell_type": "code",
   "execution_count": 21,
   "id": "64657f97",
   "metadata": {},
   "outputs": [],
   "source": [
    "dataset.replace(to_replace={False: 0, True: 1},inplace=True)"
   ]
  },
  {
   "cell_type": "markdown",
   "id": "96844f6c",
   "metadata": {},
   "source": [
    "Data preprocessing will be done separately for tree based(DecisionTree, RandomForest etc) and non-tree based models(LogisticRegression, SVM etc). <br><br>\n",
    "This is because, tree models do not require one-hot encodings for categorical variables and also do not need Normalizing the dataset."
   ]
  },
  {
   "cell_type": "markdown",
   "id": "963b171a",
   "metadata": {},
   "source": [
    "## data processing for tree based models"
   ]
  },
  {
   "cell_type": "markdown",
   "id": "32db7cee",
   "metadata": {},
   "source": [
    "Creating dataset copy and encoding the categorical variables."
   ]
  },
  {
   "cell_type": "code",
   "execution_count": 22,
   "id": "ec4d7636",
   "metadata": {},
   "outputs": [
    {
     "data": {
      "text/html": [
       "<div>\n",
       "<style scoped>\n",
       "    .dataframe tbody tr th:only-of-type {\n",
       "        vertical-align: middle;\n",
       "    }\n",
       "\n",
       "    .dataframe tbody tr th {\n",
       "        vertical-align: top;\n",
       "    }\n",
       "\n",
       "    .dataframe thead th {\n",
       "        text-align: right;\n",
       "    }\n",
       "</style>\n",
       "<table border=\"1\" class=\"dataframe\">\n",
       "  <thead>\n",
       "    <tr style=\"text-align: right;\">\n",
       "      <th></th>\n",
       "      <th>creditLimit</th>\n",
       "      <th>availableMoney</th>\n",
       "      <th>transactionAmount</th>\n",
       "      <th>acqCountry</th>\n",
       "      <th>merchantCountryCode</th>\n",
       "      <th>posEntryMode</th>\n",
       "      <th>posConditionCode</th>\n",
       "      <th>merchantCategoryCode</th>\n",
       "      <th>transactionType</th>\n",
       "      <th>currentBalance</th>\n",
       "      <th>cardPresent</th>\n",
       "      <th>expirationDateKeyInMatch</th>\n",
       "      <th>isFraud</th>\n",
       "      <th>transactionDateTime_dayofweek</th>\n",
       "      <th>transactionDateTime_hour</th>\n",
       "      <th>TA&gt;AM</th>\n",
       "      <th>CVVMatched</th>\n",
       "    </tr>\n",
       "  </thead>\n",
       "  <tbody>\n",
       "    <tr>\n",
       "      <th>0</th>\n",
       "      <td>5000</td>\n",
       "      <td>5000.0</td>\n",
       "      <td>98.55</td>\n",
       "      <td>3</td>\n",
       "      <td>3</td>\n",
       "      <td>02</td>\n",
       "      <td>01</td>\n",
       "      <td>17</td>\n",
       "      <td>1</td>\n",
       "      <td>0.0</td>\n",
       "      <td>0</td>\n",
       "      <td>0</td>\n",
       "      <td>0</td>\n",
       "      <td>5</td>\n",
       "      <td>14</td>\n",
       "      <td>0</td>\n",
       "      <td>1</td>\n",
       "    </tr>\n",
       "    <tr>\n",
       "      <th>1</th>\n",
       "      <td>5000</td>\n",
       "      <td>5000.0</td>\n",
       "      <td>74.51</td>\n",
       "      <td>3</td>\n",
       "      <td>3</td>\n",
       "      <td>09</td>\n",
       "      <td>01</td>\n",
       "      <td>3</td>\n",
       "      <td>1</td>\n",
       "      <td>0.0</td>\n",
       "      <td>1</td>\n",
       "      <td>0</td>\n",
       "      <td>0</td>\n",
       "      <td>1</td>\n",
       "      <td>5</td>\n",
       "      <td>0</td>\n",
       "      <td>1</td>\n",
       "    </tr>\n",
       "    <tr>\n",
       "      <th>2</th>\n",
       "      <td>5000</td>\n",
       "      <td>5000.0</td>\n",
       "      <td>7.47</td>\n",
       "      <td>3</td>\n",
       "      <td>3</td>\n",
       "      <td>09</td>\n",
       "      <td>01</td>\n",
       "      <td>12</td>\n",
       "      <td>1</td>\n",
       "      <td>0.0</td>\n",
       "      <td>0</td>\n",
       "      <td>0</td>\n",
       "      <td>0</td>\n",
       "      <td>1</td>\n",
       "      <td>9</td>\n",
       "      <td>0</td>\n",
       "      <td>1</td>\n",
       "    </tr>\n",
       "    <tr>\n",
       "      <th>3</th>\n",
       "      <td>5000</td>\n",
       "      <td>5000.0</td>\n",
       "      <td>7.47</td>\n",
       "      <td>3</td>\n",
       "      <td>3</td>\n",
       "      <td>09</td>\n",
       "      <td>01</td>\n",
       "      <td>12</td>\n",
       "      <td>1</td>\n",
       "      <td>0.0</td>\n",
       "      <td>0</td>\n",
       "      <td>0</td>\n",
       "      <td>0</td>\n",
       "      <td>5</td>\n",
       "      <td>2</td>\n",
       "      <td>0</td>\n",
       "      <td>1</td>\n",
       "    </tr>\n",
       "    <tr>\n",
       "      <th>4</th>\n",
       "      <td>5000</td>\n",
       "      <td>5000.0</td>\n",
       "      <td>71.18</td>\n",
       "      <td>3</td>\n",
       "      <td>3</td>\n",
       "      <td>02</td>\n",
       "      <td>01</td>\n",
       "      <td>4</td>\n",
       "      <td>1</td>\n",
       "      <td>0.0</td>\n",
       "      <td>1</td>\n",
       "      <td>0</td>\n",
       "      <td>0</td>\n",
       "      <td>3</td>\n",
       "      <td>21</td>\n",
       "      <td>0</td>\n",
       "      <td>1</td>\n",
       "    </tr>\n",
       "  </tbody>\n",
       "</table>\n",
       "</div>"
      ],
      "text/plain": [
       "   creditLimit  availableMoney  transactionAmount  acqCountry  \\\n",
       "0         5000          5000.0              98.55           3   \n",
       "1         5000          5000.0              74.51           3   \n",
       "2         5000          5000.0               7.47           3   \n",
       "3         5000          5000.0               7.47           3   \n",
       "4         5000          5000.0              71.18           3   \n",
       "\n",
       "   merchantCountryCode posEntryMode posConditionCode  merchantCategoryCode  \\\n",
       "0                    3           02               01                    17   \n",
       "1                    3           09               01                     3   \n",
       "2                    3           09               01                    12   \n",
       "3                    3           09               01                    12   \n",
       "4                    3           02               01                     4   \n",
       "\n",
       "   transactionType  currentBalance  cardPresent  expirationDateKeyInMatch  \\\n",
       "0                1             0.0            0                         0   \n",
       "1                1             0.0            1                         0   \n",
       "2                1             0.0            0                         0   \n",
       "3                1             0.0            0                         0   \n",
       "4                1             0.0            1                         0   \n",
       "\n",
       "   isFraud  transactionDateTime_dayofweek  transactionDateTime_hour  TA>AM  \\\n",
       "0        0                              5                        14      0   \n",
       "1        0                              1                         5      0   \n",
       "2        0                              1                         9      0   \n",
       "3        0                              5                         2      0   \n",
       "4        0                              3                        21      0   \n",
       "\n",
       "   CVVMatched  \n",
       "0           1  \n",
       "1           1  \n",
       "2           1  \n",
       "3           1  \n",
       "4           1  "
      ]
     },
     "execution_count": 22,
     "metadata": {},
     "output_type": "execute_result"
    }
   ],
   "source": [
    "dataset_tree = deepcopy(dataset)\n",
    "\n",
    "le_acqCountry = LabelEncoder()\n",
    "le_merchantCountryCode = LabelEncoder()\n",
    "le_merchantCategoryCode = LabelEncoder()\n",
    "le_transactionType = LabelEncoder()\n",
    "\n",
    "dataset_tree['acqCountry'] = le_acqCountry.fit_transform(dataset_tree['acqCountry'])\n",
    "dataset_tree['merchantCountryCode'] = le_merchantCountryCode.fit_transform(dataset_tree['merchantCountryCode'])\n",
    "dataset_tree['merchantCategoryCode'] = le_merchantCategoryCode.fit_transform(dataset_tree['merchantCategoryCode'])\n",
    "dataset_tree['transactionType'] = le_transactionType.fit_transform(dataset_tree['transactionType'])\n",
    "dataset_tree.head()"
   ]
  },
  {
   "cell_type": "markdown",
   "id": "63f99b34",
   "metadata": {},
   "source": [
    "## data preprocessing for non-tree models\n",
    "Creating dummy fields for categorical variables"
   ]
  },
  {
   "cell_type": "code",
   "execution_count": 24,
   "id": "b51b995d",
   "metadata": {},
   "outputs": [
    {
     "data": {
      "text/html": [
       "<div>\n",
       "<style scoped>\n",
       "    .dataframe tbody tr th:only-of-type {\n",
       "        vertical-align: middle;\n",
       "    }\n",
       "\n",
       "    .dataframe tbody tr th {\n",
       "        vertical-align: top;\n",
       "    }\n",
       "\n",
       "    .dataframe thead th {\n",
       "        text-align: right;\n",
       "    }\n",
       "</style>\n",
       "<table border=\"1\" class=\"dataframe\">\n",
       "  <thead>\n",
       "    <tr style=\"text-align: right;\">\n",
       "      <th></th>\n",
       "      <th>creditLimit</th>\n",
       "      <th>availableMoney</th>\n",
       "      <th>transactionAmount</th>\n",
       "      <th>currentBalance</th>\n",
       "      <th>cardPresent</th>\n",
       "      <th>expirationDateKeyInMatch</th>\n",
       "      <th>isFraud</th>\n",
       "      <th>TA&gt;AM</th>\n",
       "      <th>CVVMatched</th>\n",
       "      <th>acqCountry_MEX</th>\n",
       "      <th>...</th>\n",
       "      <th>transactionDateTime_hour_14</th>\n",
       "      <th>transactionDateTime_hour_15</th>\n",
       "      <th>transactionDateTime_hour_16</th>\n",
       "      <th>transactionDateTime_hour_17</th>\n",
       "      <th>transactionDateTime_hour_18</th>\n",
       "      <th>transactionDateTime_hour_19</th>\n",
       "      <th>transactionDateTime_hour_20</th>\n",
       "      <th>transactionDateTime_hour_21</th>\n",
       "      <th>transactionDateTime_hour_22</th>\n",
       "      <th>transactionDateTime_hour_23</th>\n",
       "    </tr>\n",
       "  </thead>\n",
       "  <tbody>\n",
       "    <tr>\n",
       "      <th>0</th>\n",
       "      <td>5000</td>\n",
       "      <td>5000.0</td>\n",
       "      <td>98.55</td>\n",
       "      <td>0.0</td>\n",
       "      <td>0</td>\n",
       "      <td>0</td>\n",
       "      <td>0</td>\n",
       "      <td>0</td>\n",
       "      <td>1</td>\n",
       "      <td>0</td>\n",
       "      <td>...</td>\n",
       "      <td>1</td>\n",
       "      <td>0</td>\n",
       "      <td>0</td>\n",
       "      <td>0</td>\n",
       "      <td>0</td>\n",
       "      <td>0</td>\n",
       "      <td>0</td>\n",
       "      <td>0</td>\n",
       "      <td>0</td>\n",
       "      <td>0</td>\n",
       "    </tr>\n",
       "    <tr>\n",
       "      <th>1</th>\n",
       "      <td>5000</td>\n",
       "      <td>5000.0</td>\n",
       "      <td>74.51</td>\n",
       "      <td>0.0</td>\n",
       "      <td>1</td>\n",
       "      <td>0</td>\n",
       "      <td>0</td>\n",
       "      <td>0</td>\n",
       "      <td>1</td>\n",
       "      <td>0</td>\n",
       "      <td>...</td>\n",
       "      <td>0</td>\n",
       "      <td>0</td>\n",
       "      <td>0</td>\n",
       "      <td>0</td>\n",
       "      <td>0</td>\n",
       "      <td>0</td>\n",
       "      <td>0</td>\n",
       "      <td>0</td>\n",
       "      <td>0</td>\n",
       "      <td>0</td>\n",
       "    </tr>\n",
       "    <tr>\n",
       "      <th>2</th>\n",
       "      <td>5000</td>\n",
       "      <td>5000.0</td>\n",
       "      <td>7.47</td>\n",
       "      <td>0.0</td>\n",
       "      <td>0</td>\n",
       "      <td>0</td>\n",
       "      <td>0</td>\n",
       "      <td>0</td>\n",
       "      <td>1</td>\n",
       "      <td>0</td>\n",
       "      <td>...</td>\n",
       "      <td>0</td>\n",
       "      <td>0</td>\n",
       "      <td>0</td>\n",
       "      <td>0</td>\n",
       "      <td>0</td>\n",
       "      <td>0</td>\n",
       "      <td>0</td>\n",
       "      <td>0</td>\n",
       "      <td>0</td>\n",
       "      <td>0</td>\n",
       "    </tr>\n",
       "    <tr>\n",
       "      <th>3</th>\n",
       "      <td>5000</td>\n",
       "      <td>5000.0</td>\n",
       "      <td>7.47</td>\n",
       "      <td>0.0</td>\n",
       "      <td>0</td>\n",
       "      <td>0</td>\n",
       "      <td>0</td>\n",
       "      <td>0</td>\n",
       "      <td>1</td>\n",
       "      <td>0</td>\n",
       "      <td>...</td>\n",
       "      <td>0</td>\n",
       "      <td>0</td>\n",
       "      <td>0</td>\n",
       "      <td>0</td>\n",
       "      <td>0</td>\n",
       "      <td>0</td>\n",
       "      <td>0</td>\n",
       "      <td>0</td>\n",
       "      <td>0</td>\n",
       "      <td>0</td>\n",
       "    </tr>\n",
       "    <tr>\n",
       "      <th>4</th>\n",
       "      <td>5000</td>\n",
       "      <td>5000.0</td>\n",
       "      <td>71.18</td>\n",
       "      <td>0.0</td>\n",
       "      <td>1</td>\n",
       "      <td>0</td>\n",
       "      <td>0</td>\n",
       "      <td>0</td>\n",
       "      <td>1</td>\n",
       "      <td>0</td>\n",
       "      <td>...</td>\n",
       "      <td>0</td>\n",
       "      <td>0</td>\n",
       "      <td>0</td>\n",
       "      <td>0</td>\n",
       "      <td>0</td>\n",
       "      <td>0</td>\n",
       "      <td>0</td>\n",
       "      <td>1</td>\n",
       "      <td>0</td>\n",
       "      <td>0</td>\n",
       "    </tr>\n",
       "  </tbody>\n",
       "</table>\n",
       "<p>5 rows × 70 columns</p>\n",
       "</div>"
      ],
      "text/plain": [
       "   creditLimit  availableMoney  transactionAmount  currentBalance  \\\n",
       "0         5000          5000.0              98.55             0.0   \n",
       "1         5000          5000.0              74.51             0.0   \n",
       "2         5000          5000.0               7.47             0.0   \n",
       "3         5000          5000.0               7.47             0.0   \n",
       "4         5000          5000.0              71.18             0.0   \n",
       "\n",
       "   cardPresent  expirationDateKeyInMatch  isFraud  TA>AM  CVVMatched  \\\n",
       "0            0                         0        0      0           1   \n",
       "1            1                         0        0      0           1   \n",
       "2            0                         0        0      0           1   \n",
       "3            0                         0        0      0           1   \n",
       "4            1                         0        0      0           1   \n",
       "\n",
       "   acqCountry_MEX  ...  transactionDateTime_hour_14  \\\n",
       "0               0  ...                            1   \n",
       "1               0  ...                            0   \n",
       "2               0  ...                            0   \n",
       "3               0  ...                            0   \n",
       "4               0  ...                            0   \n",
       "\n",
       "   transactionDateTime_hour_15  transactionDateTime_hour_16  \\\n",
       "0                            0                            0   \n",
       "1                            0                            0   \n",
       "2                            0                            0   \n",
       "3                            0                            0   \n",
       "4                            0                            0   \n",
       "\n",
       "   transactionDateTime_hour_17  transactionDateTime_hour_18  \\\n",
       "0                            0                            0   \n",
       "1                            0                            0   \n",
       "2                            0                            0   \n",
       "3                            0                            0   \n",
       "4                            0                            0   \n",
       "\n",
       "   transactionDateTime_hour_19  transactionDateTime_hour_20  \\\n",
       "0                            0                            0   \n",
       "1                            0                            0   \n",
       "2                            0                            0   \n",
       "3                            0                            0   \n",
       "4                            0                            0   \n",
       "\n",
       "   transactionDateTime_hour_21  transactionDateTime_hour_22  \\\n",
       "0                            0                            0   \n",
       "1                            0                            0   \n",
       "2                            0                            0   \n",
       "3                            0                            0   \n",
       "4                            1                            0   \n",
       "\n",
       "   transactionDateTime_hour_23  \n",
       "0                            0  \n",
       "1                            0  \n",
       "2                            0  \n",
       "3                            0  \n",
       "4                            0  \n",
       "\n",
       "[5 rows x 70 columns]"
      ]
     },
     "execution_count": 24,
     "metadata": {},
     "output_type": "execute_result"
    }
   ],
   "source": [
    "dataset = pd.get_dummies(dataset, columns=['acqCountry','merchantCountryCode','posEntryMode','posConditionCode',\n",
    "                                 'merchantCategoryCode','transactionType','transactionDateTime_dayofweek',\n",
    "                                 'transactionDateTime_hour'], drop_first=True)\n",
    "dataset.head()"
   ]
  },
  {
   "cell_type": "markdown",
   "id": "ed1148d4",
   "metadata": {},
   "source": [
    "## split dataset into train and test sets"
   ]
  },
  {
   "cell_type": "code",
   "execution_count": 25,
   "id": "d293e6f2",
   "metadata": {},
   "outputs": [],
   "source": [
    "y = dataset['isFraud'].values\n",
    "dataset.drop(columns=['isFraud'],inplace=True)\n",
    "dataset_tree.drop(columns=['isFraud'],inplace=True)\n",
    "X = dataset.iloc[:,:].values\n",
    "X_tree = dataset_tree.iloc[:,:].values"
   ]
  },
  {
   "cell_type": "markdown",
   "id": "7ef2ee8f",
   "metadata": {},
   "source": [
    "Train Test Split"
   ]
  },
  {
   "cell_type": "code",
   "execution_count": 32,
   "id": "4ff0ab8b",
   "metadata": {},
   "outputs": [],
   "source": [
    "X_train, X_test, y_train, y_test = train_test_split(X, y, test_size=0.2, random_state=0)\n",
    "X_tree_train, X_tree_test, y_tree_train, y_tree_test = train_test_split(X_tree, y, test_size=0.2, random_state=0)"
   ]
  },
  {
   "cell_type": "markdown",
   "id": "37e3e1da",
   "metadata": {},
   "source": [
    "Normalizing the dataset for non-tree models"
   ]
  },
  {
   "cell_type": "code",
   "execution_count": 33,
   "id": "5eea3c0d",
   "metadata": {},
   "outputs": [],
   "source": [
    "mm = MinMaxScaler()\n",
    "mm.fit(X_train)\n",
    "X_train = mm.transform(X_train)\n",
    "X_test = mm.transform(X_test)"
   ]
  },
  {
   "cell_type": "markdown",
   "id": "ad1a693c",
   "metadata": {},
   "source": [
    "## under sampling the training set<br>\n",
    "NOTE: Also performed over-sampling the training set and modelling. Under-sampling is giving better performance than over-sampling."
   ]
  },
  {
   "cell_type": "markdown",
   "id": "70d32a89",
   "metadata": {},
   "source": [
    "Before under sampling - class imbalance"
   ]
  },
  {
   "cell_type": "code",
   "execution_count": 31,
   "id": "d20296eb",
   "metadata": {},
   "outputs": [
    {
     "name": "stdout",
     "output_type": "stream",
     "text": [
      "[[     0 619105]\n",
      " [     1   9985]]\n"
     ]
    }
   ],
   "source": [
    "unique, counts = np.unique(y_train, return_counts=True)\n",
    "print(np.asarray((unique, counts)).T)"
   ]
  },
  {
   "cell_type": "code",
   "execution_count": 34,
   "id": "dbfdc6e7",
   "metadata": {},
   "outputs": [
    {
     "name": "stdout",
     "output_type": "stream",
     "text": [
      "[[     0 619105]\n",
      " [     1   9985]]\n"
     ]
    }
   ],
   "source": [
    "unique, counts = np.unique(y_tree_train, return_counts=True)\n",
    "print(np.asarray((unique, counts)).T)"
   ]
  },
  {
   "cell_type": "markdown",
   "id": "eb7af3db",
   "metadata": {},
   "source": [
    "Under sampling"
   ]
  },
  {
   "cell_type": "code",
   "execution_count": 35,
   "id": "94aa7212",
   "metadata": {},
   "outputs": [],
   "source": [
    "under_sampler = RandomUnderSampler(random_state=0)\n",
    "X_train_sampled, y_train_sampled = under_sampler.fit_resample(X_train, y_train)\n",
    "X_tree_train_sampled, y_tree_train_sampled = under_sampler.fit_resample(X_tree_train, y_tree_train)"
   ]
  },
  {
   "cell_type": "markdown",
   "id": "560e3feb",
   "metadata": {},
   "source": [
    "After under sampling - classes are balanced"
   ]
  },
  {
   "cell_type": "code",
   "execution_count": 36,
   "id": "8930f7d6",
   "metadata": {},
   "outputs": [
    {
     "name": "stdout",
     "output_type": "stream",
     "text": [
      "[[   0 9985]\n",
      " [   1 9985]]\n"
     ]
    }
   ],
   "source": [
    "unique, counts = np.unique(y_train_sampled, return_counts=True)\n",
    "print(np.asarray((unique, counts)).T)"
   ]
  },
  {
   "cell_type": "code",
   "execution_count": 38,
   "id": "90256230",
   "metadata": {},
   "outputs": [
    {
     "name": "stdout",
     "output_type": "stream",
     "text": [
      "[[   0 9985]\n",
      " [   1 9985]]\n"
     ]
    }
   ],
   "source": [
    "unique, counts = np.unique(y_tree_train_sampled, return_counts=True)\n",
    "print(np.asarray((unique, counts)).T)"
   ]
  },
  {
   "cell_type": "markdown",
   "id": "16286ece",
   "metadata": {},
   "source": [
    "# Models"
   ]
  },
  {
   "cell_type": "markdown",
   "id": "4a3d973a",
   "metadata": {},
   "source": [
    "## Decision Tree"
   ]
  },
  {
   "cell_type": "markdown",
   "id": "0ca9e1cf",
   "metadata": {},
   "source": [
    "Finding best parameters through GridSearch and CrossValidation score"
   ]
  },
  {
   "cell_type": "code",
   "execution_count": 40,
   "id": "9bd379d7",
   "metadata": {},
   "outputs": [
    {
     "name": "stdout",
     "output_type": "stream",
     "text": [
      "Best model parameters :  {'criterion': 'entropy', 'max_depth': 8}\n",
      "Best model score :  0.6773660490736104\n"
     ]
    }
   ],
   "source": [
    "dt_model = DecisionTreeClassifier(random_state=0)\n",
    "\n",
    "dt_parameters = {'criterion' : ['gini', 'entropy'],\n",
    "                 'max_depth' : [5,6,7,8,9,10]}\n",
    "gcv_dtree = GridSearchCV(dt_model, dt_parameters, cv=5, n_jobs=-1, scoring='accuracy')\n",
    "gcv_dtree.fit(X_tree_train_sampled, y_tree_train_sampled)\n",
    "print('Best model parameters : ',gcv_dtree.best_params_)\n",
    "print('Best model score : ',gcv_dtree.best_score_)"
   ]
  },
  {
   "cell_type": "markdown",
   "id": "27917325",
   "metadata": {},
   "source": [
    "Fitting the model and evaluating on test set"
   ]
  },
  {
   "cell_type": "code",
   "execution_count": 60,
   "id": "fc97b57a",
   "metadata": {},
   "outputs": [
    {
     "name": "stdout",
     "output_type": "stream",
     "text": [
      "Training Accuracy :  0.7093640460691036\n",
      "Testing Accuracy :  0.6866849363845033\n",
      "\n",
      "Report :\n",
      "              precision    recall  f1-score   support\n",
      "\n",
      "   Not Fraud       0.99      0.69      0.81    154841\n",
      "       Fraud       0.03      0.68      0.06      2432\n",
      "\n",
      "    accuracy                           0.69    157273\n",
      "   macro avg       0.51      0.69      0.44    157273\n",
      "weighted avg       0.98      0.69      0.80    157273\n",
      "\n",
      "\n",
      "Confusion Matrix :\n"
     ]
    },
    {
     "data": {
      "image/png": "[encoded data removed]",
      "text/plain": [
       "<Figure size 432x288 with 2 Axes>"
      ]
     },
     "metadata": {
      "needs_background": "light"
     },
     "output_type": "display_data"
    }
   ],
   "source": [
    "dt_model = DecisionTreeClassifier(criterion='entropy',max_depth=8,random_state=0)\n",
    "dt_model.fit(X_tree_train_sampled, y_tree_train_sampled)\n",
    "\n",
    "y_pred = dt_model.predict(X_tree_test)\n",
    "\n",
    "print('Training Accuracy : ', dt_model.score(X_tree_train_sampled, y_tree_train_sampled))\n",
    "print('Testing Accuracy : ', accuracy_score(y_tree_test, y_pred))\n",
    "\n",
    "print('\\nReport :')\n",
    "print(classification_report(y_tree_test, y_pred, target_names=['Not Fraud','Fraud']))\n",
    "\n",
    "print('\\nConfusion Matrix :')\n",
    "plot_confusion_matrix(dt_model,X_tree_test, y_tree_test, labels = [0,1],\n",
    "                      display_labels = ['Not Fraud','Fraud'])\n",
    "plt.show()"
   ]
  },
  {
   "cell_type": "markdown",
   "id": "4de82a63",
   "metadata": {},
   "source": [
    "## Random Forest"
   ]
  },
  {
   "cell_type": "markdown",
   "id": "358b7440",
   "metadata": {},
   "source": [
    "Finding best parameters through GridSearch and CrossValidation score"
   ]
  },
  {
   "cell_type": "code",
   "execution_count": 54,
   "id": "7ed11d94",
   "metadata": {},
   "outputs": [
    {
     "name": "stdout",
     "output_type": "stream",
     "text": [
      "Best model parameters :  {'criterion': 'gini', 'max_depth': 12, 'n_estimators': 300}\n",
      "Best model score :  0.6896845267901852\n"
     ]
    }
   ],
   "source": [
    "rf_model = RandomForestClassifier(random_state=0)\n",
    "\n",
    "rf_parameters = {'n_estimators' : [100,200,300],\n",
    "                 'criterion' : ['gini', 'entropy'],\n",
    "                 'max_depth' : [7,8,9,10,11,12]}\n",
    "gcv_rf = GridSearchCV(rf_model, rf_parameters, cv=5, n_jobs=-1, scoring='accuracy')\n",
    "gcv_rf.fit(X_tree_train_sampled, y_tree_train_sampled)\n",
    "print('Best model parameters : ',gcv_rf.best_params_)\n",
    "print('Best model score : ',gcv_rf.best_score_)"
   ]
  },
  {
   "cell_type": "markdown",
   "id": "1267b81c",
   "metadata": {},
   "source": [
    "Fitting the model and evaluating on test set"
   ]
  },
  {
   "cell_type": "code",
   "execution_count": 61,
   "id": "b371b474",
   "metadata": {},
   "outputs": [
    {
     "name": "stdout",
     "output_type": "stream",
     "text": [
      "Training Accuracy :  0.8014021031547321\n",
      "Testing Accuracy :  0.698810348883788\n",
      "\n",
      "Report :\n",
      "              precision    recall  f1-score   support\n",
      "\n",
      "   Not Fraud       0.99      0.70      0.82    154841\n",
      "       Fraud       0.04      0.70      0.07      2432\n",
      "\n",
      "    accuracy                           0.70    157273\n",
      "   macro avg       0.51      0.70      0.44    157273\n",
      "weighted avg       0.98      0.70      0.81    157273\n",
      "\n",
      "\n",
      "Confusion Matrix :\n"
     ]
    },
    {
     "data": {
      "image/png": "[encoded data removed]",
      "text/plain": [
       "<Figure size 432x288 with 2 Axes>"
      ]
     },
     "metadata": {
      "needs_background": "light"
     },
     "output_type": "display_data"
    }
   ],
   "source": [
    "rf_model = RandomForestClassifier(n_estimators=300,criterion='gini',max_depth=12,random_state=0)\n",
    "rf_model.fit(X_tree_train_sampled, y_tree_train_sampled)\n",
    "\n",
    "y_pred = rf_model.predict(X_tree_test)\n",
    "\n",
    "print('Training Accuracy : ', rf_model.score(X_tree_train_sampled, y_tree_train_sampled))\n",
    "print('Testing Accuracy : ', accuracy_score(y_tree_test, y_pred))\n",
    "\n",
    "print('\\nReport :')\n",
    "print(classification_report(y_tree_test, y_pred, target_names=['Not Fraud','Fraud']))\n",
    "\n",
    "print('\\nConfusion Matrix :')\n",
    "plot_confusion_matrix(rf_model,X_tree_test, y_tree_test, labels = [0,1],\n",
    "                      display_labels = ['Not Fraud','Fraud'])\n",
    "plt.show()"
   ]
  },
  {
   "cell_type": "markdown",
   "id": "d8613de7",
   "metadata": {},
   "source": [
    "## XGBoost"
   ]
  },
  {
   "cell_type": "markdown",
   "id": "34bb2ca2",
   "metadata": {},
   "source": [
    "Finding best parameters through GridSearch and CrossValidation score"
   ]
  },
  {
   "cell_type": "code",
   "execution_count": 59,
   "id": "d1c06ae3",
   "metadata": {},
   "outputs": [
    {
     "name": "stdout",
     "output_type": "stream",
     "text": [
      "Best model parameters :  {'max_depth': 3, 'n_estimators': 100}\n",
      "Best model score :  0.6934401602403606\n"
     ]
    }
   ],
   "source": [
    "xgb_model = XGBClassifier(random_state=0, n_jobs=-1, objective='binary:logistic',\n",
    "                          booster='gbtree', eval_metric='logloss')\n",
    "\n",
    "\n",
    "xgb_parameters = {'n_estimators' : [10,100,300],\n",
    "                 'max_depth' : [3,4,5,6,7]}\n",
    "gcv_xgb = GridSearchCV(xgb_model, xgb_parameters, cv=5, n_jobs=-1, scoring='accuracy')\n",
    "gcv_xgb.fit(X_tree_train_sampled, y_tree_train_sampled)\n",
    "print('Best model parameters : ',gcv_xgb.best_params_)\n",
    "print('Best model score : ',gcv_xgb.best_score_)"
   ]
  },
  {
   "cell_type": "markdown",
   "id": "5c876a34",
   "metadata": {},
   "source": [
    "Fitting the model and evaluating on test set"
   ]
  },
  {
   "cell_type": "code",
   "execution_count": 63,
   "id": "24204df1",
   "metadata": {},
   "outputs": [
    {
     "name": "stdout",
     "output_type": "stream",
     "text": [
      "Training Accuracy :  0.7203805708562844\n",
      "Testing Accuracy :  0.6929352145632117\n",
      "\n",
      "Report :\n",
      "              precision    recall  f1-score   support\n",
      "\n",
      "   Not Fraud       0.99      0.69      0.82    154841\n",
      "       Fraud       0.03      0.71      0.07      2432\n",
      "\n",
      "    accuracy                           0.69    157273\n",
      "   macro avg       0.51      0.70      0.44    157273\n",
      "weighted avg       0.98      0.69      0.80    157273\n",
      "\n",
      "\n",
      "Confusion Matrix :\n"
     ]
    },
    {
     "data": {
      "image/png": "[encoded data removed]",
      "text/plain": [
       "<Figure size 432x288 with 2 Axes>"
      ]
     },
     "metadata": {
      "needs_background": "light"
     },
     "output_type": "display_data"
    }
   ],
   "source": [
    "xgb_model = XGBClassifier(random_state=0, n_jobs=-1, objective='binary:logistic', booster='gbtree',\n",
    "                          max_depth= 3, n_estimators= 100, eval_metric='logloss', use_label_encoder=False)\n",
    "xgb_model.fit(X_tree_train_sampled, y_tree_train_sampled)\n",
    "\n",
    "y_pred = xgb_model.predict(X_tree_test)\n",
    "\n",
    "print('Training Accuracy : ', xgb_model.score(X_tree_train_sampled, y_tree_train_sampled))\n",
    "print('Testing Accuracy : ', accuracy_score(y_tree_test, y_pred))\n",
    "\n",
    "print('\\nReport :')\n",
    "print(classification_report(y_tree_test, y_pred, target_names=['Not Fraud','Fraud']))\n",
    "\n",
    "print('\\nConfusion Matrix :')\n",
    "plot_confusion_matrix(xgb_model,X_tree_test, y_tree_test, labels = [0,1],\n",
    "                      display_labels = ['Not Fraud','Fraud'])\n",
    "plt.show()"
   ]
  },
  {
   "cell_type": "markdown",
   "id": "44d850fa",
   "metadata": {},
   "source": [
    "## Logistic Regression"
   ]
  },
  {
   "cell_type": "markdown",
   "id": "e822b57f",
   "metadata": {},
   "source": [
    "Finding best parameters through GridSearch and CrossValidation score"
   ]
  },
  {
   "cell_type": "code",
   "execution_count": 64,
   "id": "78a2e5e8",
   "metadata": {},
   "outputs": [
    {
     "name": "stdout",
     "output_type": "stream",
     "text": [
      "Best model parameters :  {'C': 10, 'penalty': 'l2'}\n",
      "Best model score :  0.6771657486229344\n"
     ]
    }
   ],
   "source": [
    "lr_model = LogisticRegression(random_state=0, n_jobs=-1, max_iter=10000)\n",
    "\n",
    "lr_parameters = {'penalty' : ['l1','l2'],\n",
    "                 'C' : [0.1,1,10,100]}\n",
    "gcv_lr = GridSearchCV(lr_model, lr_parameters, cv=5, n_jobs=-1, scoring='accuracy')\n",
    "gcv_lr.fit(X_train_sampled, y_train_sampled)\n",
    "print('Best model parameters : ',gcv_lr.best_params_)\n",
    "print('Best model score : ',gcv_lr.best_score_)"
   ]
  },
  {
   "cell_type": "markdown",
   "id": "921b71a4",
   "metadata": {},
   "source": [
    "Fitting the model and evaluating on test set"
   ]
  },
  {
   "cell_type": "code",
   "execution_count": 66,
   "id": "6a77287f",
   "metadata": {},
   "outputs": [
    {
     "name": "stdout",
     "output_type": "stream",
     "text": [
      "Training Accuracy :  0.6799198798197296\n",
      "Testing Accuracy :  0.6414769222943544\n",
      "\n",
      "Report :\n",
      "              precision    recall  f1-score   support\n",
      "\n",
      "   Not Fraud       0.99      0.64      0.78    154841\n",
      "       Fraud       0.03      0.71      0.06      2432\n",
      "\n",
      "    accuracy                           0.64    157273\n",
      "   macro avg       0.51      0.68      0.42    157273\n",
      "weighted avg       0.98      0.64      0.77    157273\n",
      "\n",
      "\n",
      "Confusion Matrix :\n"
     ]
    },
    {
     "data": {
      "image/png": "[encoded data removed]",
      "text/plain": [
       "<Figure size 432x288 with 2 Axes>"
      ]
     },
     "metadata": {
      "needs_background": "light"
     },
     "output_type": "display_data"
    }
   ],
   "source": [
    "lr_model = LogisticRegression(random_state=0, n_jobs=-1, max_iter=10000, penalty='l2', C=10)\n",
    "lr_model.fit(X_train_sampled, y_train_sampled)\n",
    "\n",
    "y_pred = lr_model.predict(X_test)\n",
    "\n",
    "print('Training Accuracy : ', lr_model.score(X_train_sampled, y_train_sampled))\n",
    "print('Testing Accuracy : ', accuracy_score(y_test, y_pred))\n",
    "\n",
    "print('\\nReport :')\n",
    "print(classification_report(y_test, y_pred, target_names=['Not Fraud','Fraud']))\n",
    "\n",
    "print('\\nConfusion Matrix :')\n",
    "plot_confusion_matrix(lr_model,X_test, y_test, labels = [0,1],\n",
    "                      display_labels = ['Not Fraud','Fraud'])\n",
    "plt.show()"
   ]
  },
  {
   "cell_type": "markdown",
   "id": "1bd4d20b",
   "metadata": {},
   "source": [
    "## SVM"
   ]
  },
  {
   "cell_type": "markdown",
   "id": "01beb8b9",
   "metadata": {},
   "source": [
    "Finding best parameters through GridSearch and CrossValidation score"
   ]
  },
  {
   "cell_type": "code",
   "execution_count": 67,
   "id": "3c685394",
   "metadata": {},
   "outputs": [
    {
     "name": "stdout",
     "output_type": "stream",
     "text": [
      "Best model parameters :  {'C': 1, 'penalty': 'l2'}\n",
      "Best model score :  0.6762143214822234\n"
     ]
    }
   ],
   "source": [
    "lsvm_model = LinearSVC(random_state=0, max_iter=10000)\n",
    "\n",
    "lsvm_parameters = {'penalty' : ['l1','l2'],\n",
    "                 'C' : [0.1,1,10,100]}\n",
    "gcv_lsvm = GridSearchCV(lsvm_model, lsvm_parameters, cv=5, n_jobs=-1, scoring='accuracy')\n",
    "gcv_lsvm.fit(X_train_sampled, y_train_sampled)\n",
    "print('Best model parameters : ',gcv_lsvm.best_params_)\n",
    "print('Best model score : ',gcv_lsvm.best_score_)"
   ]
  },
  {
   "cell_type": "markdown",
   "id": "cdf3445b",
   "metadata": {},
   "source": [
    "Fitting the model and evaluating on test set"
   ]
  },
  {
   "cell_type": "code",
   "execution_count": 68,
   "id": "1c4cf398",
   "metadata": {},
   "outputs": [
    {
     "name": "stdout",
     "output_type": "stream",
     "text": [
      "Training Accuracy :  0.6798698047070606\n",
      "Testing Accuracy :  0.6412289458457586\n",
      "\n",
      "Report :\n",
      "              precision    recall  f1-score   support\n",
      "\n",
      "   Not Fraud       0.99      0.64      0.78    154841\n",
      "       Fraud       0.03      0.71      0.06      2432\n",
      "\n",
      "    accuracy                           0.64    157273\n",
      "   macro avg       0.51      0.68      0.42    157273\n",
      "weighted avg       0.98      0.64      0.77    157273\n",
      "\n",
      "\n",
      "Confusion Matrix :\n"
     ]
    },
    {
     "data": {
      "image/png": "[encoded data removed]",
      "text/plain": [
       "<Figure size 432x288 with 2 Axes>"
      ]
     },
     "metadata": {
      "needs_background": "light"
     },
     "output_type": "display_data"
    }
   ],
   "source": [
    "lsvm_model = LinearSVC(random_state=0, max_iter=10000, penalty='l2', C=1)\n",
    "lsvm_model.fit(X_train_sampled, y_train_sampled)\n",
    "\n",
    "y_pred = lsvm_model.predict(X_test)\n",
    "\n",
    "print('Training Accuracy : ', lsvm_model.score(X_train_sampled, y_train_sampled))\n",
    "print('Testing Accuracy : ', accuracy_score(y_test, y_pred))\n",
    "\n",
    "print('\\nReport :')\n",
    "print(classification_report(y_test, y_pred, target_names=['Not Fraud','Fraud']))\n",
    "\n",
    "print('\\nConfusion Matrix :')\n",
    "plot_confusion_matrix(lsvm_model,X_test, y_test, labels = [0,1],\n",
    "                      display_labels = ['Not Fraud','Fraud'])\n",
    "plt.show()"
   ]
  },
  {
   "cell_type": "markdown",
   "id": "ca40ac0c",
   "metadata": {},
   "source": [
    "## Artificial Neural Network"
   ]
  },
  {
   "cell_type": "code",
   "execution_count": 73,
   "id": "0194e502",
   "metadata": {},
   "outputs": [],
   "source": [
    "def evaluate(model, dataset, criterion):\n",
    "    model.eval()\n",
    "    acc = 0\n",
    "    loss = []\n",
    "    for x, y in dataset:\n",
    "        x = x.float().to(device)\n",
    "        y = y.float().to(device)\n",
    "        y = y.unsqueeze(1)\n",
    "        out = model(x)\n",
    "        l = criterion(out, y)\n",
    "        loss.append(l.item())\n",
    "        out = torch.round(torch.sigmoid(out))\n",
    "        acc += torch.sum(out==y).item()\n",
    "\n",
    "    return 100*acc/len(dataset.dataset), np.mean(np.array(loss))"
   ]
  },
  {
   "cell_type": "code",
   "execution_count": 74,
   "id": "eb22f995",
   "metadata": {},
   "outputs": [],
   "source": [
    "X_train_sampled = torch.tensor(X_train_sampled)\n",
    "X_test = torch.tensor(X_test)\n",
    "y_train_sampled = torch.tensor(y_train_sampled)\n",
    "y_test = torch.tensor(y_test)\n",
    "\n",
    "train_set = []\n",
    "for i in range(len(y_train_sampled)):\n",
    "    train_set.append((X_train_sampled[i], y_train_sampled[i]))\n",
    "    \n",
    "test_set = []\n",
    "for i in range(len(y_test)):\n",
    "    test_set.append((X_test[i], y_test[i]))\n",
    "\n",
    "\n",
    "train_dataloader = DataLoader(train_set, batch_size = 64, shuffle = True)\n",
    "test_dataloader = DataLoader(test_set, batch_size = 64, shuffle = True)"
   ]
  },
  {
   "cell_type": "code",
   "execution_count": 86,
   "id": "597f5d28",
   "metadata": {},
   "outputs": [
    {
     "name": "stdout",
     "output_type": "stream",
     "text": [
      "ANN(\n",
      "  (network): Sequential(\n",
      "    (0): Linear(in_features=69, out_features=256, bias=True)\n",
      "    (1): ReLU()\n",
      "    (2): Linear(in_features=256, out_features=512, bias=True)\n",
      "    (3): ReLU()\n",
      "    (4): Linear(in_features=512, out_features=128, bias=True)\n",
      "    (5): ReLU()\n",
      "    (6): Linear(in_features=128, out_features=1, bias=True)\n",
      "  )\n",
      ")\n"
     ]
    }
   ],
   "source": [
    "class ANN(nn.Module):\n",
    "    def __init__(self):\n",
    "        super(ANN, self).__init__()\n",
    "        self.network = nn.Sequential(nn.Linear(69, 256),\n",
    "                                     nn.ReLU(),\n",
    "                                     nn.Linear(256, 512),\n",
    "                                     nn.ReLU(),\n",
    "                                     nn.Linear(512, 128),\n",
    "                                     nn.ReLU(),\n",
    "                                     nn.Linear(128, 1),)\n",
    "    \n",
    "    def forward(self, x):\n",
    "        x = self.network(x)\n",
    "        return x\n",
    "\n",
    "ann_model = ANN().to(device)\n",
    "print(ann_model)"
   ]
  },
  {
   "cell_type": "code",
   "execution_count": 87,
   "id": "ed0863eb",
   "metadata": {},
   "outputs": [],
   "source": [
    "optimizer = torch.optim.SGD(ann_model.parameters(), lr=0.001, momentum=0.9)\n",
    "criterion = nn.BCEWithLogitsLoss()"
   ]
  },
  {
   "cell_type": "code",
   "execution_count": 88,
   "id": "5b4b3259",
   "metadata": {},
   "outputs": [
    {
     "name": "stdout",
     "output_type": "stream",
     "text": [
      "Epoch: 1\t Train_Loss:0.6918\t Train_Acc:53.8758\t Test_Loss:0.7001\t Test_Acc:16.3353\n",
      "Epoch: 2\t Train_Loss:0.6904\t Train_Acc:60.9464\t Test_Loss:0.6907\t Test_Acc:59.3827\n",
      "Epoch: 3\t Train_Loss:0.6886\t Train_Acc:61.7877\t Test_Loss:0.6893\t Test_Acc:59.5894\n",
      "Epoch: 4\t Train_Loss:0.6861\t Train_Acc:61.9830\t Test_Loss:0.6898\t Test_Acc:56.5749\n",
      "Epoch: 5\t Train_Loss:0.6824\t Train_Acc:62.1632\t Test_Loss:0.6879\t Test_Acc:57.2075\n",
      "Epoch: 6\t Train_Loss:0.6775\t Train_Acc:62.0931\t Test_Loss:0.6868\t Test_Acc:56.5246\n",
      "Epoch: 7\t Train_Loss:0.6702\t Train_Acc:63.1297\t Test_Loss:0.6648\t Test_Acc:66.5505\n",
      "Epoch: 8\t Train_Loss:0.6618\t Train_Acc:62.1983\t Test_Loss:0.6865\t Test_Acc:55.7305\n",
      "Epoch: 9\t Train_Loss:0.6541\t Train_Acc:63.6405\t Test_Loss:0.6499\t Test_Acc:67.2436\n",
      "Epoch:10\t Train_Loss:0.6488\t Train_Acc:63.7907\t Test_Loss:0.6291\t Test_Acc:69.8938\n"
     ]
    }
   ],
   "source": [
    "ann_model = ann_model.float()\n",
    "\n",
    "top_acc = 0\n",
    "\n",
    "for epoch in range(10):\n",
    "    ann_model.train()\n",
    "    for data,targets in train_dataloader:\n",
    "        data = data.float().to(device)\n",
    "        targets = targets.float().to(device)\n",
    "        targets = targets.unsqueeze(1)\n",
    "        optimizer.zero_grad()\n",
    "        out = ann_model(data)\n",
    "        loss = criterion(out, targets)\n",
    "        loss.backward()\n",
    "        optimizer.step()\n",
    "    \n",
    "    #Train validation\n",
    "    trn_acc, trn_lss = evaluate(ann_model, train_dataloader, criterion)\n",
    "    \n",
    "    #Test validation\n",
    "    tst_acc, tst_lss = evaluate(ann_model, test_dataloader, criterion)\n",
    "\n",
    "    print(f'Epoch:{epoch+1:2.0f}\\t Train_Loss:{trn_lss:.4f}\\t Train_Acc:{trn_acc:.4f}\\t Test_Loss:{tst_lss:.4f}\\t Test_Acc:{tst_acc:.4f}')\n",
    "    \n",
    "    if epoch > 5 and tst_acc > top_acc:\n",
    "        top_acc = tst_acc\n",
    "        torch.save(ann_model,'best_model.pt')"
   ]
  },
  {
   "cell_type": "code",
   "execution_count": 89,
   "id": "b7e2929e",
   "metadata": {},
   "outputs": [
    {
     "name": "stdout",
     "output_type": "stream",
     "text": [
      "Accuracy score :  0.6989375162933243\n",
      "Confusion Matrix : \n",
      "[[108499  46342]\n",
      " [  1007   1425]]\n"
     ]
    }
   ],
   "source": [
    "best_model = torch.load('best_model.pt')\n",
    "\n",
    "y_pred_ann = best_model(X_test.float())\n",
    "y_pred_ann = torch.round(torch.sigmoid(y_pred_ann))\n",
    "y_pred_ann = torch.detach(y_pred_ann).numpy()\n",
    "\n",
    "print('Accuracy score : ', accuracy_score(y_test, y_pred_ann))\n",
    "print('Confusion Matrix : ')\n",
    "print(confusion_matrix(y_test, y_pred_ann))"
   ]
  },
  {
   "cell_type": "markdown",
   "id": "a82c6705",
   "metadata": {},
   "source": [
    "# feature importance"
   ]
  },
  {
   "cell_type": "markdown",
   "id": "3aacf7f9",
   "metadata": {},
   "source": [
    "Decision Tree"
   ]
  },
  {
   "cell_type": "code",
   "execution_count": 95,
   "id": "af017e3d",
   "metadata": {},
   "outputs": [
    {
     "data": {
      "image/png": "[encoded data removed]",
      "text/plain": [
       "<Figure size 720x360 with 1 Axes>"
      ]
     },
     "metadata": {
      "needs_background": "light"
     },
     "output_type": "display_data"
    }
   ],
   "source": [
    "plt.figure(figsize=(10,5))\n",
    "plt.barh(dataset_tree.columns, dt_model.feature_importances_)\n",
    "plt.xlabel('Importance score')\n",
    "plt.show()"
   ]
  },
  {
   "cell_type": "markdown",
   "id": "735a4faa",
   "metadata": {},
   "source": [
    "Random Forest"
   ]
  },
  {
   "cell_type": "code",
   "execution_count": 96,
   "id": "0fd93769",
   "metadata": {},
   "outputs": [
    {
     "data": {
      "image/png": "[encoded data removed]",
      "text/plain": [
       "<Figure size 720x360 with 1 Axes>"
      ]
     },
     "metadata": {
      "needs_background": "light"
     },
     "output_type": "display_data"
    }
   ],
   "source": [
    "plt.figure(figsize=(10,5))\n",
    "plt.barh(dataset_tree.columns, rf_model.feature_importances_)\n",
    "plt.xlabel('Importance score')\n",
    "plt.show()"
   ]
  },
  {
   "cell_type": "markdown",
   "id": "705a308e",
   "metadata": {},
   "source": [
    "XGBoost"
   ]
  },
  {
   "cell_type": "code",
   "execution_count": 97,
   "id": "aa7a8daf",
   "metadata": {},
   "outputs": [
    {
     "data": {
      "image/png": "[encoded data removed]",
      "text/plain": [
       "<Figure size 720x360 with 1 Axes>"
      ]
     },
     "metadata": {
      "needs_background": "light"
     },
     "output_type": "display_data"
    }
   ],
   "source": [
    "plt.figure(figsize=(10,5))\n",
    "plt.barh(dataset_tree.columns, xgb_model.feature_importances_)\n",
    "plt.xlabel('Importance score')\n",
    "plt.show()"
   ]
  },
  {
   "cell_type": "markdown",
   "id": "d301defc",
   "metadata": {},
   "source": [
    "Permutation feature importance"
   ]
  },
  {
   "cell_type": "code",
   "execution_count": 102,
   "id": "8626273f",
   "metadata": {},
   "outputs": [
    {
     "data": {
      "image/png": "[encoded data removed]",
      "text/plain": [
       "<Figure size 1440x720 with 1 Axes>"
      ]
     },
     "metadata": {
      "needs_background": "light"
     },
     "output_type": "display_data"
    }
   ],
   "source": [
    "pi = permutation_importance(lr_model, X_train_sampled, y_train_sampled, random_state=0, scoring='accuracy')\n",
    "coff = pi.importances_mean\n",
    "plt.figure(figsize=(20,10))\n",
    "plt.bar([i for i in range(0,len(coff))], coff)\n",
    "plt.xlabel('Importance score')\n",
    "plt.xticks(list(range(0,69)),dataset.columns, rotation=90)\n",
    "plt.show()"
   ]
  },
  {
   "cell_type": "markdown",
   "id": "e68bc15f",
   "metadata": {},
   "source": [
    "# conclusion"
   ]
  },
  {
   "cell_type": "markdown",
   "id": "fc48993e",
   "metadata": {},
   "source": [
    "## best model"
   ]
  },
  {
   "cell_type": "markdown",
   "id": "cef09cef",
   "metadata": {},
   "source": [
    "The linear models Logisticregression and SVM performed well in detecting the Fraud transactions on test dataset. But they fail to detect the Not-Fraud transactions as good as tree models. <br><br>\n",
    "On the other hand the Artificial Neural Network(ANN), predicted decently on test dataset. As neural networks overfit easily, I believe much more finetuning for right amount of neurons in each layer and number of layer will improve the performance.<br><br>\n",
    "All the tree models DecisionTree, RandomForest, XGBoost performed well in detecting both the classes Fraud and Not-Fraud. All the models had decent precision and recall. <br><br>\n",
    "The test dataset is also highly imbalanced and so, the precison for minority class is low. <br><br>\n",
    "\n",
    "Finally, compared to all the models RandomForest is the best performing model both on train and test sets with overall accuracies of 80% and 70% respectively."
   ]
  },
  {
   "cell_type": "markdown",
   "id": "3d13ee01",
   "metadata": {},
   "source": [
    "## important features"
   ]
  },
  {
   "cell_type": "markdown",
   "id": "36d53734",
   "metadata": {},
   "source": [
    "From the feature important scores from all the models and permutation feature importance, we can conclude that below are the top 5 important features <br><br>\n",
    "transactionAmount<br>\n",
    "posEntryMode<br>\n",
    "merchantCategoryCode<br>\n",
    "cardPresent<br>\n",
    "currentBalance<br>"
   ]
  },
  {
   "cell_type": "code",
   "execution_count": null,
   "id": "2800a94e",
   "metadata": {},
   "outputs": [],
   "source": []
  },
  {
   "cell_type": "markdown",
   "id": "d86d2cb4",
   "metadata": {},
   "source": [
    "What you would do next with more time?<br>\n",
    "\n",
    "•\tI would like to explore the data further to see if any new feature can be created to increase the model’s performances.<br>\n",
    "•\tAlso, I would like to try out more Under Sample and Over Sample techniques and assess the performances. As of now, I have tried only one technique for each sampling type.<br>\n",
    "•\tOversampling the training data increased the total training time for each model. I would like to implement dimensionality reduction techniques like PCA to boost the training time.\n"
   ]
  },
  {
   "cell_type": "code",
   "execution_count": null,
   "id": "88d967f6",
   "metadata": {},
   "outputs": [],
   "source": []
  }
 ],
 "metadata": {
  "kernelspec": {
   "display_name": "Python [conda env:cone] *",
   "language": "python",
   "name": "conda-env-cone-py"
  },
  "language_info": {
   "codemirror_mode": {
    "name": "ipython",
    "version": 3
   },
   "file_extension": ".py",
   "mimetype": "text/x-python",
   "name": "python",
   "nbconvert_exporter": "python",
   "pygments_lexer": "ipython3",
   "version": "3.8.12"
  }
 },
 "nbformat": 4,
 "nbformat_minor": 5
}
